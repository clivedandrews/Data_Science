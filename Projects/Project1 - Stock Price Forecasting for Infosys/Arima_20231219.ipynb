{
 "cells": [
  {
   "cell_type": "markdown",
   "metadata": {},
   "source": [
    "# **PROJECT** #\n",
    "## ***STOCK PRICE TIMELINE FORECASTING*** ##"
   ]
  },
  {
   "cell_type": "markdown",
   "metadata": {},
   "source": [
    "### **Company Name: INFOSYS** ###\n",
    "### **MODEL: ARIMA** ###"
   ]
  },
  {
   "cell_type": "code",
   "execution_count": 1,
   "metadata": {},
   "outputs": [],
   "source": [
    "\n",
    "# Importing Libraries\n",
    "import numpy as np\n",
    "import pandas as pd\n",
    "from scipy.stats import boxcox\n",
    "from pandas.plotting import lag_plot\n",
    "from statsmodels.tsa.stattools import adfuller\n",
    "from statsmodels.tsa.stattools import acf, pacf\n",
    "from statsmodels.graphics.tsaplots import plot_acf\n",
    "from statsmodels.graphics.tsaplots import plot_pacf\n",
    "from pmdarima.arima import auto_arima\n",
    "from pandas import DataFrame\n",
    "from pandas import Grouper\n",
    "from math import sqrt\n",
    "from statsmodels.tsa.arima.model import ARIMA\n",
    "from sklearn.metrics import mean_squared_error, mean_absolute_error, mean_absolute_percentage_error, accuracy_score\n",
    "from statsmodels.tsa.seasonal import seasonal_decompose\n",
    "from statsmodels.tsa.holtwinters import SimpleExpSmoothing # SES\n",
    "from statsmodels.tsa.holtwinters import Holt # Holts Exponential Smoothing\n",
    "from statsmodels.tsa.holtwinters import ExponentialSmoothing\n",
    "import matplotlib.pyplot as plt\n",
    "import plotly.graph_objects as go\n",
    "from plotly.subplots import make_subplots\n",
    "import seaborn as sns\n",
    "from collections import Counter\n",
    "import plotly.express as px\n",
    "from plotly.offline import plot as off\n",
    "import plotly.figure_factory as ff\n",
    "import plotly.io as pio\n",
    "from sklearn.preprocessing import StandardScaler, LabelEncoder, MinMaxScaler, scale\n",
    "from sklearn.metrics import mean_squared_error\n",
    "from sklearn.model_selection import GridSearchCV, KFold, StratifiedKFold, cross_val_score, \\\n",
    "                                    train_test_split, RandomizedSearchCV\n",
    "import warnings\n",
    "warnings.filterwarnings('ignore')\n",
    "from sklearn.feature_selection import SelectKBest\n",
    "from sklearn.feature_selection import mutual_info_regression\n",
    "import pickle"
   ]
  },
  {
   "cell_type": "markdown",
   "metadata": {},
   "source": [
    "### **Importing data from file infosys.csv** ###"
   ]
  },
  {
   "cell_type": "markdown",
   "metadata": {},
   "source": [
    "**We have extracted the stock prices for INFOSYS from the website https://finance.yahoo.com/**\n",
    "Steps are as follows -\n",
    "\n",
    "    1. Visited the website https://finance.yahoo.com/\n",
    "    2. Select the INFOSYS Stocks by searching in the search bar for \"INFOSYS\" and the BSE index.\n",
    "    3. The data shows up as \"Infosys Limited (INFY.BO)\".\n",
    "        In order to get the historical data for stock prices for INFOSYS, we need to select the \"Historical Data\" tab.\n",
    "    4. We need to now select the \"Time Period\", with the Frequency as \"Daily\". We can click on the start \"Time Period\" and click \"Max\". It gives the maximum Time Period for stock prices.\n",
    "    5. Click on the Apply button. This will give the Daily stock prices for the given maximum duration, in this case \"Jan 03, 2000 - Nov 28, 2023\".\n",
    "    6. Click on the Download button. This will give us the option to download the file in a location in the computer.\n",
    "        We have selected to download as a .csv file with the name as \"infosys.csv\""
   ]
  },
  {
   "cell_type": "code",
   "execution_count": 2,
   "metadata": {},
   "outputs": [
    {
     "data": {
      "text/html": [
       "<div>\n",
       "<style scoped>\n",
       "    .dataframe tbody tr th:only-of-type {\n",
       "        vertical-align: middle;\n",
       "    }\n",
       "\n",
       "    .dataframe tbody tr th {\n",
       "        vertical-align: top;\n",
       "    }\n",
       "\n",
       "    .dataframe thead th {\n",
       "        text-align: right;\n",
       "    }\n",
       "</style>\n",
       "<table border=\"1\" class=\"dataframe\">\n",
       "  <thead>\n",
       "    <tr style=\"text-align: right;\">\n",
       "      <th></th>\n",
       "      <th>Date</th>\n",
       "      <th>Open</th>\n",
       "      <th>High</th>\n",
       "      <th>Low</th>\n",
       "      <th>Close</th>\n",
       "      <th>Adj Close</th>\n",
       "      <th>Volume</th>\n",
       "    </tr>\n",
       "  </thead>\n",
       "  <tbody>\n",
       "    <tr>\n",
       "      <th>0</th>\n",
       "      <td>03-01-2000</td>\n",
       "      <td>117.273438</td>\n",
       "      <td>122.480469</td>\n",
       "      <td>117.273438</td>\n",
       "      <td>122.480469</td>\n",
       "      <td>-2.162692</td>\n",
       "      <td>3804416.0</td>\n",
       "    </tr>\n",
       "    <tr>\n",
       "      <th>1</th>\n",
       "      <td>04-01-2000</td>\n",
       "      <td>132.278519</td>\n",
       "      <td>132.278519</td>\n",
       "      <td>125.000000</td>\n",
       "      <td>132.110931</td>\n",
       "      <td>-2.332741</td>\n",
       "      <td>12100608.0</td>\n",
       "    </tr>\n",
       "    <tr>\n",
       "      <th>2</th>\n",
       "      <td>05-01-2000</td>\n",
       "      <td>131.257813</td>\n",
       "      <td>131.257813</td>\n",
       "      <td>121.542191</td>\n",
       "      <td>121.542191</td>\n",
       "      <td>-2.146124</td>\n",
       "      <td>15264256.0</td>\n",
       "    </tr>\n",
       "    <tr>\n",
       "      <th>3</th>\n",
       "      <td>06-01-2000</td>\n",
       "      <td>119.531250</td>\n",
       "      <td>120.312500</td>\n",
       "      <td>111.819138</td>\n",
       "      <td>111.819138</td>\n",
       "      <td>-1.974440</td>\n",
       "      <td>9052800.0</td>\n",
       "    </tr>\n",
       "    <tr>\n",
       "      <th>4</th>\n",
       "      <td>07-01-2000</td>\n",
       "      <td>102.875000</td>\n",
       "      <td>102.875000</td>\n",
       "      <td>102.873825</td>\n",
       "      <td>102.873825</td>\n",
       "      <td>-1.816489</td>\n",
       "      <td>696832.0</td>\n",
       "    </tr>\n",
       "    <tr>\n",
       "      <th>...</th>\n",
       "      <td>...</td>\n",
       "      <td>...</td>\n",
       "      <td>...</td>\n",
       "      <td>...</td>\n",
       "      <td>...</td>\n",
       "      <td>...</td>\n",
       "      <td>...</td>\n",
       "    </tr>\n",
       "    <tr>\n",
       "      <th>5967</th>\n",
       "      <td>10-11-2023</td>\n",
       "      <td>1371.000000</td>\n",
       "      <td>1373.199951</td>\n",
       "      <td>1361.199951</td>\n",
       "      <td>1368.699951</td>\n",
       "      <td>1368.699951</td>\n",
       "      <td>477065.0</td>\n",
       "    </tr>\n",
       "    <tr>\n",
       "      <th>5968</th>\n",
       "      <td>13-11-2023</td>\n",
       "      <td>1378.599976</td>\n",
       "      <td>1382.849976</td>\n",
       "      <td>1370.699951</td>\n",
       "      <td>1374.150024</td>\n",
       "      <td>1374.150024</td>\n",
       "      <td>134432.0</td>\n",
       "    </tr>\n",
       "    <tr>\n",
       "      <th>5969</th>\n",
       "      <td>15-11-2023</td>\n",
       "      <td>1386.050049</td>\n",
       "      <td>1413.099976</td>\n",
       "      <td>1386.050049</td>\n",
       "      <td>1411.150024</td>\n",
       "      <td>1411.150024</td>\n",
       "      <td>306197.0</td>\n",
       "    </tr>\n",
       "    <tr>\n",
       "      <th>5970</th>\n",
       "      <td>16-11-2023</td>\n",
       "      <td>1411.349976</td>\n",
       "      <td>1453.349976</td>\n",
       "      <td>1410.300049</td>\n",
       "      <td>1443.900024</td>\n",
       "      <td>1443.900024</td>\n",
       "      <td>629062.0</td>\n",
       "    </tr>\n",
       "    <tr>\n",
       "      <th>5971</th>\n",
       "      <td>17-11-2023</td>\n",
       "      <td>1442.949951</td>\n",
       "      <td>1451.000000</td>\n",
       "      <td>1434.750000</td>\n",
       "      <td>1437.650024</td>\n",
       "      <td>1437.650024</td>\n",
       "      <td>261502.0</td>\n",
       "    </tr>\n",
       "  </tbody>\n",
       "</table>\n",
       "<p>5972 rows × 7 columns</p>\n",
       "</div>"
      ],
      "text/plain": [
       "            Date         Open         High          Low        Close  \\\n",
       "0     03-01-2000   117.273438   122.480469   117.273438   122.480469   \n",
       "1     04-01-2000   132.278519   132.278519   125.000000   132.110931   \n",
       "2     05-01-2000   131.257813   131.257813   121.542191   121.542191   \n",
       "3     06-01-2000   119.531250   120.312500   111.819138   111.819138   \n",
       "4     07-01-2000   102.875000   102.875000   102.873825   102.873825   \n",
       "...          ...          ...          ...          ...          ...   \n",
       "5967  10-11-2023  1371.000000  1373.199951  1361.199951  1368.699951   \n",
       "5968  13-11-2023  1378.599976  1382.849976  1370.699951  1374.150024   \n",
       "5969  15-11-2023  1386.050049  1413.099976  1386.050049  1411.150024   \n",
       "5970  16-11-2023  1411.349976  1453.349976  1410.300049  1443.900024   \n",
       "5971  17-11-2023  1442.949951  1451.000000  1434.750000  1437.650024   \n",
       "\n",
       "        Adj Close      Volume  \n",
       "0       -2.162692   3804416.0  \n",
       "1       -2.332741  12100608.0  \n",
       "2       -2.146124  15264256.0  \n",
       "3       -1.974440   9052800.0  \n",
       "4       -1.816489    696832.0  \n",
       "...           ...         ...  \n",
       "5967  1368.699951    477065.0  \n",
       "5968  1374.150024    134432.0  \n",
       "5969  1411.150024    306197.0  \n",
       "5970  1443.900024    629062.0  \n",
       "5971  1437.650024    261502.0  \n",
       "\n",
       "[5972 rows x 7 columns]"
      ]
     },
     "execution_count": 2,
     "metadata": {},
     "output_type": "execute_result"
    }
   ],
   "source": [
    "# Importing the data from the file 'infosys.csv'\n",
    "stock_orig_data = pd.read_csv('infosys.csv')\n",
    "stock_orig_data"
   ]
  },
  {
   "cell_type": "markdown",
   "metadata": {},
   "source": [
    "Importing the file \"infosys.csv\" and reading it via the pandas read_csv module.</br>\n",
    "**This gives us the columns - Date, Open, High, Low, Close, Adj Close and Volume.**</br>\n",
    "We are interested in the \"Date\" and \"Close\" columns, so we will remove the remaining columns as part of the EDA steps."
   ]
  },
  {
   "cell_type": "markdown",
   "metadata": {},
   "source": [
    "### **EDA (Exploratory Data Analysis)** ###"
   ]
  },
  {
   "cell_type": "code",
   "execution_count": 3,
   "metadata": {},
   "outputs": [
    {
     "data": {
      "text/plain": [
       "(5972, 7)"
      ]
     },
     "execution_count": 3,
     "metadata": {},
     "output_type": "execute_result"
    }
   ],
   "source": [
    "# Getting the shape of the Data Frame, it shows us that we have 5972 rows and 7 columns\n",
    "stock_orig_data.shape"
   ]
  },
  {
   "cell_type": "markdown",
   "metadata": {},
   "source": [
    "#### *Descriptive Analysis* ####"
   ]
  },
  {
   "cell_type": "code",
   "execution_count": 4,
   "metadata": {},
   "outputs": [
    {
     "data": {
      "text/html": [
       "<div>\n",
       "<style scoped>\n",
       "    .dataframe tbody tr th:only-of-type {\n",
       "        vertical-align: middle;\n",
       "    }\n",
       "\n",
       "    .dataframe tbody tr th {\n",
       "        vertical-align: top;\n",
       "    }\n",
       "\n",
       "    .dataframe thead th {\n",
       "        text-align: right;\n",
       "    }\n",
       "</style>\n",
       "<table border=\"1\" class=\"dataframe\">\n",
       "  <thead>\n",
       "    <tr style=\"text-align: right;\">\n",
       "      <th></th>\n",
       "      <th>Open</th>\n",
       "      <th>High</th>\n",
       "      <th>Low</th>\n",
       "      <th>Close</th>\n",
       "      <th>Adj Close</th>\n",
       "      <th>Volume</th>\n",
       "    </tr>\n",
       "  </thead>\n",
       "  <tbody>\n",
       "    <tr>\n",
       "      <th>count</th>\n",
       "      <td>5922.000000</td>\n",
       "      <td>5922.000000</td>\n",
       "      <td>5922.000000</td>\n",
       "      <td>5922.000000</td>\n",
       "      <td>5922.000000</td>\n",
       "      <td>5.922000e+03</td>\n",
       "    </tr>\n",
       "    <tr>\n",
       "      <th>mean</th>\n",
       "      <td>473.109831</td>\n",
       "      <td>478.137824</td>\n",
       "      <td>467.821550</td>\n",
       "      <td>472.899457</td>\n",
       "      <td>383.979522</td>\n",
       "      <td>5.398202e+06</td>\n",
       "    </tr>\n",
       "    <tr>\n",
       "      <th>std</th>\n",
       "      <td>444.270908</td>\n",
       "      <td>448.293479</td>\n",
       "      <td>440.152100</td>\n",
       "      <td>444.180493</td>\n",
       "      <td>472.866010</td>\n",
       "      <td>1.053604e+07</td>\n",
       "    </tr>\n",
       "    <tr>\n",
       "      <th>min</th>\n",
       "      <td>34.340626</td>\n",
       "      <td>34.340626</td>\n",
       "      <td>34.340626</td>\n",
       "      <td>34.340626</td>\n",
       "      <td>-7.086354</td>\n",
       "      <td>0.000000e+00</td>\n",
       "    </tr>\n",
       "    <tr>\n",
       "      <th>25%</th>\n",
       "      <td>151.865627</td>\n",
       "      <td>154.132816</td>\n",
       "      <td>148.505856</td>\n",
       "      <td>151.617973</td>\n",
       "      <td>36.791442</td>\n",
       "      <td>3.543765e+05</td>\n",
       "    </tr>\n",
       "    <tr>\n",
       "      <th>50%</th>\n",
       "      <td>342.668747</td>\n",
       "      <td>345.906250</td>\n",
       "      <td>339.568756</td>\n",
       "      <td>342.759384</td>\n",
       "      <td>185.091980</td>\n",
       "      <td>8.867240e+05</td>\n",
       "    </tr>\n",
       "    <tr>\n",
       "      <th>75%</th>\n",
       "      <td>575.637512</td>\n",
       "      <td>583.756241</td>\n",
       "      <td>569.712494</td>\n",
       "      <td>576.850006</td>\n",
       "      <td>526.586715</td>\n",
       "      <td>4.093948e+06</td>\n",
       "    </tr>\n",
       "    <tr>\n",
       "      <th>max</th>\n",
       "      <td>1935.000000</td>\n",
       "      <td>1953.699951</td>\n",
       "      <td>1931.150024</td>\n",
       "      <td>1939.349976</td>\n",
       "      <td>1889.180664</td>\n",
       "      <td>1.409381e+08</td>\n",
       "    </tr>\n",
       "  </tbody>\n",
       "</table>\n",
       "</div>"
      ],
      "text/plain": [
       "              Open         High          Low        Close    Adj Close  \\\n",
       "count  5922.000000  5922.000000  5922.000000  5922.000000  5922.000000   \n",
       "mean    473.109831   478.137824   467.821550   472.899457   383.979522   \n",
       "std     444.270908   448.293479   440.152100   444.180493   472.866010   \n",
       "min      34.340626    34.340626    34.340626    34.340626    -7.086354   \n",
       "25%     151.865627   154.132816   148.505856   151.617973    36.791442   \n",
       "50%     342.668747   345.906250   339.568756   342.759384   185.091980   \n",
       "75%     575.637512   583.756241   569.712494   576.850006   526.586715   \n",
       "max    1935.000000  1953.699951  1931.150024  1939.349976  1889.180664   \n",
       "\n",
       "             Volume  \n",
       "count  5.922000e+03  \n",
       "mean   5.398202e+06  \n",
       "std    1.053604e+07  \n",
       "min    0.000000e+00  \n",
       "25%    3.543765e+05  \n",
       "50%    8.867240e+05  \n",
       "75%    4.093948e+06  \n",
       "max    1.409381e+08  "
      ]
     },
     "execution_count": 4,
     "metadata": {},
     "output_type": "execute_result"
    }
   ],
   "source": [
    "# The .describe function help us get the Descriptive Analysis of the DataFrame.\n",
    "# It give us the Count, Mean, Standard Deviation, Minimum, 25% Quartile, 50% Quartile or Median, 75% Quartile and the Maximum Value for each of the columns.\n",
    "stock_orig_data.describe() # Describes the entire dataset"
   ]
  },
  {
   "cell_type": "code",
   "execution_count": 5,
   "metadata": {},
   "outputs": [
    {
     "data": {
      "text/plain": [
       "count    5922.000000\n",
       "mean      472.899457\n",
       "std       444.180493\n",
       "min        34.340626\n",
       "25%       151.617973\n",
       "50%       342.759384\n",
       "75%       576.850006\n",
       "max      1939.349976\n",
       "Name: Close, dtype: float64"
      ]
     },
     "execution_count": 5,
     "metadata": {},
     "output_type": "execute_result"
    }
   ],
   "source": [
    "# If we want to get the Descriptive Analysis data for only the specific column/feature \"Close\", \n",
    "# we can run the command specific to that column as shown below\n",
    "stock_orig_data['Close'].describe() # describe for the required column/feature 'Close'"
   ]
  },
  {
   "cell_type": "code",
   "execution_count": 6,
   "metadata": {},
   "outputs": [
    {
     "name": "stdout",
     "output_type": "stream",
     "text": [
      "<class 'pandas.core.frame.DataFrame'>\n",
      "RangeIndex: 5972 entries, 0 to 5971\n",
      "Data columns (total 7 columns):\n",
      " #   Column     Non-Null Count  Dtype  \n",
      "---  ------     --------------  -----  \n",
      " 0   Date       5972 non-null   object \n",
      " 1   Open       5922 non-null   float64\n",
      " 2   High       5922 non-null   float64\n",
      " 3   Low        5922 non-null   float64\n",
      " 4   Close      5922 non-null   float64\n",
      " 5   Adj Close  5922 non-null   float64\n",
      " 6   Volume     5922 non-null   float64\n",
      "dtypes: float64(6), object(1)\n",
      "memory usage: 326.7+ KB\n"
     ]
    }
   ],
   "source": [
    "# We get the details of the number of null/non-null values and Data time for each column/feature.\n",
    "stock_orig_data.info()"
   ]
  },
  {
   "cell_type": "markdown",
   "metadata": {},
   "source": [
    "*Creating backup file*"
   ]
  },
  {
   "cell_type": "code",
   "execution_count": 7,
   "metadata": {},
   "outputs": [],
   "source": [
    "# Creating a file 'stock_data' as copy of the original file 'stock_orig_data'\n",
    "# We will do all the changes in this file only.\n",
    "\n",
    "stock_data = stock_orig_data.copy()"
   ]
  },
  {
   "cell_type": "markdown",
   "metadata": {},
   "source": [
    "#### *Dropping columns not needed* ####"
   ]
  },
  {
   "cell_type": "code",
   "execution_count": 8,
   "metadata": {},
   "outputs": [],
   "source": [
    "# Once we have created a backup for the original file, we can now do changes on the file copy \"stock_data\"\n",
    "# We are retraining only the desired \n",
    "stock_data = stock_orig_data[['Date','Close']]"
   ]
  },
  {
   "cell_type": "code",
   "execution_count": 9,
   "metadata": {},
   "outputs": [
    {
     "data": {
      "text/html": [
       "<div>\n",
       "<style scoped>\n",
       "    .dataframe tbody tr th:only-of-type {\n",
       "        vertical-align: middle;\n",
       "    }\n",
       "\n",
       "    .dataframe tbody tr th {\n",
       "        vertical-align: top;\n",
       "    }\n",
       "\n",
       "    .dataframe thead th {\n",
       "        text-align: right;\n",
       "    }\n",
       "</style>\n",
       "<table border=\"1\" class=\"dataframe\">\n",
       "  <thead>\n",
       "    <tr style=\"text-align: right;\">\n",
       "      <th></th>\n",
       "      <th>Date</th>\n",
       "      <th>Close</th>\n",
       "    </tr>\n",
       "  </thead>\n",
       "  <tbody>\n",
       "    <tr>\n",
       "      <th>0</th>\n",
       "      <td>03-01-2000</td>\n",
       "      <td>122.480469</td>\n",
       "    </tr>\n",
       "    <tr>\n",
       "      <th>1</th>\n",
       "      <td>04-01-2000</td>\n",
       "      <td>132.110931</td>\n",
       "    </tr>\n",
       "    <tr>\n",
       "      <th>2</th>\n",
       "      <td>05-01-2000</td>\n",
       "      <td>121.542191</td>\n",
       "    </tr>\n",
       "    <tr>\n",
       "      <th>3</th>\n",
       "      <td>06-01-2000</td>\n",
       "      <td>111.819138</td>\n",
       "    </tr>\n",
       "    <tr>\n",
       "      <th>4</th>\n",
       "      <td>07-01-2000</td>\n",
       "      <td>102.873825</td>\n",
       "    </tr>\n",
       "    <tr>\n",
       "      <th>...</th>\n",
       "      <td>...</td>\n",
       "      <td>...</td>\n",
       "    </tr>\n",
       "    <tr>\n",
       "      <th>5967</th>\n",
       "      <td>10-11-2023</td>\n",
       "      <td>1368.699951</td>\n",
       "    </tr>\n",
       "    <tr>\n",
       "      <th>5968</th>\n",
       "      <td>13-11-2023</td>\n",
       "      <td>1374.150024</td>\n",
       "    </tr>\n",
       "    <tr>\n",
       "      <th>5969</th>\n",
       "      <td>15-11-2023</td>\n",
       "      <td>1411.150024</td>\n",
       "    </tr>\n",
       "    <tr>\n",
       "      <th>5970</th>\n",
       "      <td>16-11-2023</td>\n",
       "      <td>1443.900024</td>\n",
       "    </tr>\n",
       "    <tr>\n",
       "      <th>5971</th>\n",
       "      <td>17-11-2023</td>\n",
       "      <td>1437.650024</td>\n",
       "    </tr>\n",
       "  </tbody>\n",
       "</table>\n",
       "<p>5972 rows × 2 columns</p>\n",
       "</div>"
      ],
      "text/plain": [
       "            Date        Close\n",
       "0     03-01-2000   122.480469\n",
       "1     04-01-2000   132.110931\n",
       "2     05-01-2000   121.542191\n",
       "3     06-01-2000   111.819138\n",
       "4     07-01-2000   102.873825\n",
       "...          ...          ...\n",
       "5967  10-11-2023  1368.699951\n",
       "5968  13-11-2023  1374.150024\n",
       "5969  15-11-2023  1411.150024\n",
       "5970  16-11-2023  1443.900024\n",
       "5971  17-11-2023  1437.650024\n",
       "\n",
       "[5972 rows x 2 columns]"
      ]
     },
     "execution_count": 9,
     "metadata": {},
     "output_type": "execute_result"
    }
   ],
   "source": [
    "stock_data"
   ]
  },
  {
   "cell_type": "markdown",
   "metadata": {},
   "source": [
    "#### *Checking for Null Values* ####"
   ]
  },
  {
   "cell_type": "code",
   "execution_count": 10,
   "metadata": {},
   "outputs": [
    {
     "data": {
      "text/plain": [
       "(5972, 2)"
      ]
     },
     "execution_count": 10,
     "metadata": {},
     "output_type": "execute_result"
    }
   ],
   "source": [
    "stock_data.shape"
   ]
  },
  {
   "cell_type": "code",
   "execution_count": 11,
   "metadata": {},
   "outputs": [
    {
     "data": {
      "text/plain": [
       "Date      0\n",
       "Close    50\n",
       "dtype: int64"
      ]
     },
     "execution_count": 11,
     "metadata": {},
     "output_type": "execute_result"
    }
   ],
   "source": [
    "# Checking to see if there are any null values\n",
    "# We can get this information using stock_data.info() option as well\n",
    "stock_data.isnull().sum() # The result shows that there are null values"
   ]
  },
  {
   "cell_type": "code",
   "execution_count": 12,
   "metadata": {},
   "outputs": [],
   "source": [
    "stock_data.dropna(subset=['Close'], inplace=True) # We are concentrating on dropping for 'Close' column our intended column. \n",
    "# However, dropping null values in 'Close' column will have a desired effect on other columns as well."
   ]
  },
  {
   "cell_type": "code",
   "execution_count": 13,
   "metadata": {},
   "outputs": [
    {
     "data": {
      "text/plain": [
       "(5922, 2)"
      ]
     },
     "execution_count": 13,
     "metadata": {},
     "output_type": "execute_result"
    }
   ],
   "source": [
    "stock_data.shape"
   ]
  },
  {
   "cell_type": "code",
   "execution_count": 14,
   "metadata": {},
   "outputs": [
    {
     "data": {
      "text/plain": [
       "Date     0\n",
       "Close    0\n",
       "dtype: int64"
      ]
     },
     "execution_count": 14,
     "metadata": {},
     "output_type": "execute_result"
    }
   ],
   "source": [
    "stock_data.isnull().sum() # Rechecking after dropping null values"
   ]
  },
  {
   "cell_type": "markdown",
   "metadata": {},
   "source": [
    "#### *Checking for missing values* ####"
   ]
  },
  {
   "cell_type": "code",
   "execution_count": 15,
   "metadata": {},
   "outputs": [
    {
     "data": {
      "text/plain": [
       "Date     0\n",
       "Close    0\n",
       "dtype: int64"
      ]
     },
     "execution_count": 15,
     "metadata": {},
     "output_type": "execute_result"
    }
   ],
   "source": [
    "# Check for missing values\n",
    "stock_data.isna().sum() # The result shows that there are no missing values"
   ]
  },
  {
   "cell_type": "markdown",
   "metadata": {},
   "source": [
    "#### *Checking for Duplicates* ####"
   ]
  },
  {
   "cell_type": "code",
   "execution_count": 16,
   "metadata": {},
   "outputs": [
    {
     "data": {
      "text/plain": [
       "0       False\n",
       "1       False\n",
       "2       False\n",
       "3       False\n",
       "4       False\n",
       "        ...  \n",
       "5967    False\n",
       "5968    False\n",
       "5969    False\n",
       "5970    False\n",
       "5971    False\n",
       "Length: 5922, dtype: bool"
      ]
     },
     "execution_count": 16,
     "metadata": {},
     "output_type": "execute_result"
    }
   ],
   "source": [
    "# Checking for Duplicate Values\n",
    "stock_data.duplicated()  # if any 2 rows has same values"
   ]
  },
  {
   "cell_type": "code",
   "execution_count": 17,
   "metadata": {},
   "outputs": [
    {
     "data": {
      "text/plain": [
       "(0, 2)"
      ]
     },
     "execution_count": 17,
     "metadata": {},
     "output_type": "execute_result"
    }
   ],
   "source": [
    "# Count of duplicated rows\n",
    "stock_data[stock_data.duplicated()].shape # We see that there are no duplicates"
   ]
  },
  {
   "cell_type": "code",
   "execution_count": 18,
   "metadata": {},
   "outputs": [
    {
     "data": {
      "text/html": [
       "<div>\n",
       "<style scoped>\n",
       "    .dataframe tbody tr th:only-of-type {\n",
       "        vertical-align: middle;\n",
       "    }\n",
       "\n",
       "    .dataframe tbody tr th {\n",
       "        vertical-align: top;\n",
       "    }\n",
       "\n",
       "    .dataframe thead th {\n",
       "        text-align: right;\n",
       "    }\n",
       "</style>\n",
       "<table border=\"1\" class=\"dataframe\">\n",
       "  <thead>\n",
       "    <tr style=\"text-align: right;\">\n",
       "      <th></th>\n",
       "      <th>Date</th>\n",
       "      <th>Close</th>\n",
       "    </tr>\n",
       "  </thead>\n",
       "  <tbody>\n",
       "  </tbody>\n",
       "</table>\n",
       "</div>"
      ],
      "text/plain": [
       "Empty DataFrame\n",
       "Columns: [Date, Close]\n",
       "Index: []"
      ]
     },
     "execution_count": 18,
     "metadata": {},
     "output_type": "execute_result"
    }
   ],
   "source": [
    "# Print the duplicated rows. Since we have no duplicates it will show us nothing\n",
    "stock_data[stock_data.duplicated()] # There are no duplicates"
   ]
  },
  {
   "cell_type": "markdown",
   "metadata": {},
   "source": [
    "#### *Checking the data structure* ####"
   ]
  },
  {
   "cell_type": "code",
   "execution_count": 19,
   "metadata": {},
   "outputs": [
    {
     "name": "stdout",
     "output_type": "stream",
     "text": [
      "<class 'pandas.core.frame.DataFrame'>\n"
     ]
    }
   ],
   "source": [
    "# Data Structure\n",
    "print(type(stock_data))"
   ]
  },
  {
   "cell_type": "code",
   "execution_count": 20,
   "metadata": {},
   "outputs": [
    {
     "data": {
      "text/plain": [
       "Date      object\n",
       "Close    float64\n",
       "dtype: object"
      ]
     },
     "execution_count": 20,
     "metadata": {},
     "output_type": "execute_result"
    }
   ],
   "source": [
    "# Checking data types\n",
    "stock_data.dtypes # check data types of all variables"
   ]
  },
  {
   "cell_type": "markdown",
   "metadata": {},
   "source": [
    "#### *Renaming columns* ####"
   ]
  },
  {
   "cell_type": "code",
   "execution_count": 21,
   "metadata": {},
   "outputs": [
    {
     "data": {
      "text/html": [
       "<div>\n",
       "<style scoped>\n",
       "    .dataframe tbody tr th:only-of-type {\n",
       "        vertical-align: middle;\n",
       "    }\n",
       "\n",
       "    .dataframe tbody tr th {\n",
       "        vertical-align: top;\n",
       "    }\n",
       "\n",
       "    .dataframe thead th {\n",
       "        text-align: right;\n",
       "    }\n",
       "</style>\n",
       "<table border=\"1\" class=\"dataframe\">\n",
       "  <thead>\n",
       "    <tr style=\"text-align: right;\">\n",
       "      <th></th>\n",
       "      <th>DATE</th>\n",
       "      <th>STOCK_PRICE</th>\n",
       "    </tr>\n",
       "  </thead>\n",
       "  <tbody>\n",
       "    <tr>\n",
       "      <th>0</th>\n",
       "      <td>03-01-2000</td>\n",
       "      <td>122.480469</td>\n",
       "    </tr>\n",
       "    <tr>\n",
       "      <th>1</th>\n",
       "      <td>04-01-2000</td>\n",
       "      <td>132.110931</td>\n",
       "    </tr>\n",
       "    <tr>\n",
       "      <th>2</th>\n",
       "      <td>05-01-2000</td>\n",
       "      <td>121.542191</td>\n",
       "    </tr>\n",
       "    <tr>\n",
       "      <th>3</th>\n",
       "      <td>06-01-2000</td>\n",
       "      <td>111.819138</td>\n",
       "    </tr>\n",
       "    <tr>\n",
       "      <th>4</th>\n",
       "      <td>07-01-2000</td>\n",
       "      <td>102.873825</td>\n",
       "    </tr>\n",
       "  </tbody>\n",
       "</table>\n",
       "</div>"
      ],
      "text/plain": [
       "         DATE  STOCK_PRICE\n",
       "0  03-01-2000   122.480469\n",
       "1  04-01-2000   132.110931\n",
       "2  05-01-2000   121.542191\n",
       "3  06-01-2000   111.819138\n",
       "4  07-01-2000   102.873825"
      ]
     },
     "execution_count": 21,
     "metadata": {},
     "output_type": "execute_result"
    }
   ],
   "source": [
    "# Renaming column names\n",
    "stock_data.rename(columns = {'Date':'DATE','Close':'STOCK_PRICE'}, inplace = True)\n",
    "stock_data.head()"
   ]
  },
  {
   "cell_type": "code",
   "execution_count": 22,
   "metadata": {},
   "outputs": [
    {
     "data": {
      "text/html": [
       "<div>\n",
       "<style scoped>\n",
       "    .dataframe tbody tr th:only-of-type {\n",
       "        vertical-align: middle;\n",
       "    }\n",
       "\n",
       "    .dataframe tbody tr th {\n",
       "        vertical-align: top;\n",
       "    }\n",
       "\n",
       "    .dataframe thead th {\n",
       "        text-align: right;\n",
       "    }\n",
       "</style>\n",
       "<table border=\"1\" class=\"dataframe\">\n",
       "  <thead>\n",
       "    <tr style=\"text-align: right;\">\n",
       "      <th></th>\n",
       "      <th>DATE</th>\n",
       "      <th>STOCK_PRICE</th>\n",
       "    </tr>\n",
       "  </thead>\n",
       "  <tbody>\n",
       "    <tr>\n",
       "      <th>0</th>\n",
       "      <td>03-01-2000</td>\n",
       "      <td>122.480469</td>\n",
       "    </tr>\n",
       "    <tr>\n",
       "      <th>1</th>\n",
       "      <td>04-01-2000</td>\n",
       "      <td>132.110931</td>\n",
       "    </tr>\n",
       "    <tr>\n",
       "      <th>2</th>\n",
       "      <td>05-01-2000</td>\n",
       "      <td>121.542191</td>\n",
       "    </tr>\n",
       "    <tr>\n",
       "      <th>3</th>\n",
       "      <td>06-01-2000</td>\n",
       "      <td>111.819138</td>\n",
       "    </tr>\n",
       "    <tr>\n",
       "      <th>4</th>\n",
       "      <td>07-01-2000</td>\n",
       "      <td>102.873825</td>\n",
       "    </tr>\n",
       "    <tr>\n",
       "      <th>...</th>\n",
       "      <td>...</td>\n",
       "      <td>...</td>\n",
       "    </tr>\n",
       "    <tr>\n",
       "      <th>5967</th>\n",
       "      <td>10-11-2023</td>\n",
       "      <td>1368.699951</td>\n",
       "    </tr>\n",
       "    <tr>\n",
       "      <th>5968</th>\n",
       "      <td>13-11-2023</td>\n",
       "      <td>1374.150024</td>\n",
       "    </tr>\n",
       "    <tr>\n",
       "      <th>5969</th>\n",
       "      <td>15-11-2023</td>\n",
       "      <td>1411.150024</td>\n",
       "    </tr>\n",
       "    <tr>\n",
       "      <th>5970</th>\n",
       "      <td>16-11-2023</td>\n",
       "      <td>1443.900024</td>\n",
       "    </tr>\n",
       "    <tr>\n",
       "      <th>5971</th>\n",
       "      <td>17-11-2023</td>\n",
       "      <td>1437.650024</td>\n",
       "    </tr>\n",
       "  </tbody>\n",
       "</table>\n",
       "<p>5922 rows × 2 columns</p>\n",
       "</div>"
      ],
      "text/plain": [
       "            DATE  STOCK_PRICE\n",
       "0     03-01-2000   122.480469\n",
       "1     04-01-2000   132.110931\n",
       "2     05-01-2000   121.542191\n",
       "3     06-01-2000   111.819138\n",
       "4     07-01-2000   102.873825\n",
       "...          ...          ...\n",
       "5967  10-11-2023  1368.699951\n",
       "5968  13-11-2023  1374.150024\n",
       "5969  15-11-2023  1411.150024\n",
       "5970  16-11-2023  1443.900024\n",
       "5971  17-11-2023  1437.650024\n",
       "\n",
       "[5922 rows x 2 columns]"
      ]
     },
     "execution_count": 22,
     "metadata": {},
     "output_type": "execute_result"
    }
   ],
   "source": [
    "stock_data"
   ]
  },
  {
   "cell_type": "markdown",
   "metadata": {},
   "source": [
    "#### *Outlier Detection* ####"
   ]
  },
  {
   "cell_type": "code",
   "execution_count": 23,
   "metadata": {},
   "outputs": [
    {
     "data": {
      "text/plain": [
       "Text(0.5, 0.98, 'Close')"
      ]
     },
     "execution_count": 23,
     "metadata": {},
     "output_type": "execute_result"
    },
    {
     "data": {
      "image/png": "[encoded data removed]",
      "text/plain": [
       "<Figure size 2000x600 with 1 Axes>"
      ]
     },
     "metadata": {},
     "output_type": "display_data"
    }
   ],
   "source": [
    "plt.figure(figsize=(20,6))\n",
    "sns.boxplot(data=stock_data, x='STOCK_PRICE', color='#bebe00')\n",
    "plt.ylabel('Count')\n",
    "plt.suptitle('Close')"
   ]
  },
  {
   "cell_type": "markdown",
   "metadata": {},
   "source": [
    "##### **INFERENCE** #####\n",
    "1. Since the Mean is greater than the Median the data is \"Positively Skewed\"\n",
    "2. IQR=576-151=425\n",
    "3. The Median is 342\n",
    "4. There are many outliers between 1250 and 2000"
   ]
  },
  {
   "cell_type": "markdown",
   "metadata": {},
   "source": [
    "#### *Converting 'DATE' column to Index* ####"
   ]
  },
  {
   "cell_type": "code",
   "execution_count": 24,
   "metadata": {},
   "outputs": [],
   "source": [
    "stock_data.set_index('DATE',inplace=True)"
   ]
  },
  {
   "cell_type": "code",
   "execution_count": 25,
   "metadata": {},
   "outputs": [
    {
     "data": {
      "text/html": [
       "<div>\n",
       "<style scoped>\n",
       "    .dataframe tbody tr th:only-of-type {\n",
       "        vertical-align: middle;\n",
       "    }\n",
       "\n",
       "    .dataframe tbody tr th {\n",
       "        vertical-align: top;\n",
       "    }\n",
       "\n",
       "    .dataframe thead th {\n",
       "        text-align: right;\n",
       "    }\n",
       "</style>\n",
       "<table border=\"1\" class=\"dataframe\">\n",
       "  <thead>\n",
       "    <tr style=\"text-align: right;\">\n",
       "      <th></th>\n",
       "      <th>STOCK_PRICE</th>\n",
       "    </tr>\n",
       "    <tr>\n",
       "      <th>DATE</th>\n",
       "      <th></th>\n",
       "    </tr>\n",
       "  </thead>\n",
       "  <tbody>\n",
       "    <tr>\n",
       "      <th>03-01-2000</th>\n",
       "      <td>122.480469</td>\n",
       "    </tr>\n",
       "    <tr>\n",
       "      <th>04-01-2000</th>\n",
       "      <td>132.110931</td>\n",
       "    </tr>\n",
       "    <tr>\n",
       "      <th>05-01-2000</th>\n",
       "      <td>121.542191</td>\n",
       "    </tr>\n",
       "    <tr>\n",
       "      <th>06-01-2000</th>\n",
       "      <td>111.819138</td>\n",
       "    </tr>\n",
       "    <tr>\n",
       "      <th>07-01-2000</th>\n",
       "      <td>102.873825</td>\n",
       "    </tr>\n",
       "    <tr>\n",
       "      <th>...</th>\n",
       "      <td>...</td>\n",
       "    </tr>\n",
       "    <tr>\n",
       "      <th>10-11-2023</th>\n",
       "      <td>1368.699951</td>\n",
       "    </tr>\n",
       "    <tr>\n",
       "      <th>13-11-2023</th>\n",
       "      <td>1374.150024</td>\n",
       "    </tr>\n",
       "    <tr>\n",
       "      <th>15-11-2023</th>\n",
       "      <td>1411.150024</td>\n",
       "    </tr>\n",
       "    <tr>\n",
       "      <th>16-11-2023</th>\n",
       "      <td>1443.900024</td>\n",
       "    </tr>\n",
       "    <tr>\n",
       "      <th>17-11-2023</th>\n",
       "      <td>1437.650024</td>\n",
       "    </tr>\n",
       "  </tbody>\n",
       "</table>\n",
       "<p>5922 rows × 1 columns</p>\n",
       "</div>"
      ],
      "text/plain": [
       "            STOCK_PRICE\n",
       "DATE                   \n",
       "03-01-2000   122.480469\n",
       "04-01-2000   132.110931\n",
       "05-01-2000   121.542191\n",
       "06-01-2000   111.819138\n",
       "07-01-2000   102.873825\n",
       "...                 ...\n",
       "10-11-2023  1368.699951\n",
       "13-11-2023  1374.150024\n",
       "15-11-2023  1411.150024\n",
       "16-11-2023  1443.900024\n",
       "17-11-2023  1437.650024\n",
       "\n",
       "[5922 rows x 1 columns]"
      ]
     },
     "execution_count": 25,
     "metadata": {},
     "output_type": "execute_result"
    }
   ],
   "source": [
    "stock_data"
   ]
  },
  {
   "cell_type": "code",
   "execution_count": 26,
   "metadata": {},
   "outputs": [
    {
     "name": "stdout",
     "output_type": "stream",
     "text": [
      "<class 'pandas.core.frame.DataFrame'>\n",
      "Index: 5922 entries, 03-01-2000 to 17-11-2023\n",
      "Data columns (total 1 columns):\n",
      " #   Column       Non-Null Count  Dtype  \n",
      "---  ------       --------------  -----  \n",
      " 0   STOCK_PRICE  5922 non-null   float64\n",
      "dtypes: float64(1)\n",
      "memory usage: 92.5+ KB\n"
     ]
    }
   ],
   "source": [
    "stock_data.info()"
   ]
  },
  {
   "cell_type": "code",
   "execution_count": 27,
   "metadata": {},
   "outputs": [
    {
     "data": {
      "text/html": [
       "<div>\n",
       "<style scoped>\n",
       "    .dataframe tbody tr th:only-of-type {\n",
       "        vertical-align: middle;\n",
       "    }\n",
       "\n",
       "    .dataframe tbody tr th {\n",
       "        vertical-align: top;\n",
       "    }\n",
       "\n",
       "    .dataframe thead th {\n",
       "        text-align: right;\n",
       "    }\n",
       "</style>\n",
       "<table border=\"1\" class=\"dataframe\">\n",
       "  <thead>\n",
       "    <tr style=\"text-align: right;\">\n",
       "      <th></th>\n",
       "      <th>STOCK_PRICE</th>\n",
       "    </tr>\n",
       "    <tr>\n",
       "      <th>DATE</th>\n",
       "      <th></th>\n",
       "    </tr>\n",
       "  </thead>\n",
       "  <tbody>\n",
       "    <tr>\n",
       "      <th>03-01-2000</th>\n",
       "      <td>122.480469</td>\n",
       "    </tr>\n",
       "    <tr>\n",
       "      <th>04-01-2000</th>\n",
       "      <td>132.110931</td>\n",
       "    </tr>\n",
       "    <tr>\n",
       "      <th>05-01-2000</th>\n",
       "      <td>121.542191</td>\n",
       "    </tr>\n",
       "    <tr>\n",
       "      <th>06-01-2000</th>\n",
       "      <td>111.819138</td>\n",
       "    </tr>\n",
       "    <tr>\n",
       "      <th>07-01-2000</th>\n",
       "      <td>102.873825</td>\n",
       "    </tr>\n",
       "    <tr>\n",
       "      <th>...</th>\n",
       "      <td>...</td>\n",
       "    </tr>\n",
       "    <tr>\n",
       "      <th>10-11-2023</th>\n",
       "      <td>1368.699951</td>\n",
       "    </tr>\n",
       "    <tr>\n",
       "      <th>13-11-2023</th>\n",
       "      <td>1374.150024</td>\n",
       "    </tr>\n",
       "    <tr>\n",
       "      <th>15-11-2023</th>\n",
       "      <td>1411.150024</td>\n",
       "    </tr>\n",
       "    <tr>\n",
       "      <th>16-11-2023</th>\n",
       "      <td>1443.900024</td>\n",
       "    </tr>\n",
       "    <tr>\n",
       "      <th>17-11-2023</th>\n",
       "      <td>1437.650024</td>\n",
       "    </tr>\n",
       "  </tbody>\n",
       "</table>\n",
       "<p>5922 rows × 1 columns</p>\n",
       "</div>"
      ],
      "text/plain": [
       "            STOCK_PRICE\n",
       "DATE                   \n",
       "03-01-2000   122.480469\n",
       "04-01-2000   132.110931\n",
       "05-01-2000   121.542191\n",
       "06-01-2000   111.819138\n",
       "07-01-2000   102.873825\n",
       "...                 ...\n",
       "10-11-2023  1368.699951\n",
       "13-11-2023  1374.150024\n",
       "15-11-2023  1411.150024\n",
       "16-11-2023  1443.900024\n",
       "17-11-2023  1437.650024\n",
       "\n",
       "[5922 rows x 1 columns]"
      ]
     },
     "execution_count": 27,
     "metadata": {},
     "output_type": "execute_result"
    }
   ],
   "source": [
    "stock_data"
   ]
  },
  {
   "cell_type": "code",
   "execution_count": 28,
   "metadata": {},
   "outputs": [
    {
     "data": {
      "text/html": [
       "<div>\n",
       "<style scoped>\n",
       "    .dataframe tbody tr th:only-of-type {\n",
       "        vertical-align: middle;\n",
       "    }\n",
       "\n",
       "    .dataframe tbody tr th {\n",
       "        vertical-align: top;\n",
       "    }\n",
       "\n",
       "    .dataframe thead th {\n",
       "        text-align: right;\n",
       "    }\n",
       "</style>\n",
       "<table border=\"1\" class=\"dataframe\">\n",
       "  <thead>\n",
       "    <tr style=\"text-align: right;\">\n",
       "      <th></th>\n",
       "      <th>STOCK_PRICE</th>\n",
       "      <th>DATE</th>\n",
       "    </tr>\n",
       "    <tr>\n",
       "      <th>DATE</th>\n",
       "      <th></th>\n",
       "      <th></th>\n",
       "    </tr>\n",
       "  </thead>\n",
       "  <tbody>\n",
       "    <tr>\n",
       "      <th>03-01-2000</th>\n",
       "      <td>122.480469</td>\n",
       "      <td>03-01-2000</td>\n",
       "    </tr>\n",
       "    <tr>\n",
       "      <th>04-01-2000</th>\n",
       "      <td>132.110931</td>\n",
       "      <td>04-01-2000</td>\n",
       "    </tr>\n",
       "    <tr>\n",
       "      <th>05-01-2000</th>\n",
       "      <td>121.542191</td>\n",
       "      <td>05-01-2000</td>\n",
       "    </tr>\n",
       "    <tr>\n",
       "      <th>06-01-2000</th>\n",
       "      <td>111.819138</td>\n",
       "      <td>06-01-2000</td>\n",
       "    </tr>\n",
       "    <tr>\n",
       "      <th>07-01-2000</th>\n",
       "      <td>102.873825</td>\n",
       "      <td>07-01-2000</td>\n",
       "    </tr>\n",
       "    <tr>\n",
       "      <th>...</th>\n",
       "      <td>...</td>\n",
       "      <td>...</td>\n",
       "    </tr>\n",
       "    <tr>\n",
       "      <th>10-11-2023</th>\n",
       "      <td>1368.699951</td>\n",
       "      <td>10-11-2023</td>\n",
       "    </tr>\n",
       "    <tr>\n",
       "      <th>13-11-2023</th>\n",
       "      <td>1374.150024</td>\n",
       "      <td>13-11-2023</td>\n",
       "    </tr>\n",
       "    <tr>\n",
       "      <th>15-11-2023</th>\n",
       "      <td>1411.150024</td>\n",
       "      <td>15-11-2023</td>\n",
       "    </tr>\n",
       "    <tr>\n",
       "      <th>16-11-2023</th>\n",
       "      <td>1443.900024</td>\n",
       "      <td>16-11-2023</td>\n",
       "    </tr>\n",
       "    <tr>\n",
       "      <th>17-11-2023</th>\n",
       "      <td>1437.650024</td>\n",
       "      <td>17-11-2023</td>\n",
       "    </tr>\n",
       "  </tbody>\n",
       "</table>\n",
       "<p>5922 rows × 2 columns</p>\n",
       "</div>"
      ],
      "text/plain": [
       "            STOCK_PRICE        DATE\n",
       "DATE                               \n",
       "03-01-2000   122.480469  03-01-2000\n",
       "04-01-2000   132.110931  04-01-2000\n",
       "05-01-2000   121.542191  05-01-2000\n",
       "06-01-2000   111.819138  06-01-2000\n",
       "07-01-2000   102.873825  07-01-2000\n",
       "...                 ...         ...\n",
       "10-11-2023  1368.699951  10-11-2023\n",
       "13-11-2023  1374.150024  13-11-2023\n",
       "15-11-2023  1411.150024  15-11-2023\n",
       "16-11-2023  1443.900024  16-11-2023\n",
       "17-11-2023  1437.650024  17-11-2023\n",
       "\n",
       "[5922 rows x 2 columns]"
      ]
     },
     "execution_count": 28,
     "metadata": {},
     "output_type": "execute_result"
    }
   ],
   "source": [
    "stock_data['DATE'] = stock_data.index\n",
    "stock_data"
   ]
  },
  {
   "cell_type": "markdown",
   "metadata": {},
   "source": [
    "##### **INFERENCE** #####\n",
    "- As we can see here DATE is showing as 'object' i.e. a string type.\n",
    "- We need to convert this to datetime format"
   ]
  },
  {
   "cell_type": "markdown",
   "metadata": {},
   "source": [
    "#### *Converting 'DATE' column datetime format* ####"
   ]
  },
  {
   "cell_type": "code",
   "execution_count": 29,
   "metadata": {},
   "outputs": [],
   "source": [
    "stock_data['DATE'] = pd.to_datetime(stock_data['DATE'],format='%d-%m-%Y')"
   ]
  },
  {
   "cell_type": "code",
   "execution_count": 30,
   "metadata": {},
   "outputs": [
    {
     "name": "stdout",
     "output_type": "stream",
     "text": [
      "<class 'pandas.core.series.Series'>\n",
      "Index: 5922 entries, 03-01-2000 to 17-11-2023\n",
      "Series name: DATE\n",
      "Non-Null Count  Dtype         \n",
      "--------------  -----         \n",
      "5922 non-null   datetime64[ns]\n",
      "dtypes: datetime64[ns](1)\n",
      "memory usage: 92.5+ KB\n"
     ]
    }
   ],
   "source": [
    "stock_data[\"DATE\"].info()"
   ]
  },
  {
   "cell_type": "markdown",
   "metadata": {},
   "source": [
    "#### **VISUALIZATIONS** ####"
   ]
  },
  {
   "cell_type": "code",
   "execution_count": 31,
   "metadata": {},
   "outputs": [
    {
     "data": {
      "text/html": [
       "<div>\n",
       "<style scoped>\n",
       "    .dataframe tbody tr th:only-of-type {\n",
       "        vertical-align: middle;\n",
       "    }\n",
       "\n",
       "    .dataframe tbody tr th {\n",
       "        vertical-align: top;\n",
       "    }\n",
       "\n",
       "    .dataframe thead th {\n",
       "        text-align: right;\n",
       "    }\n",
       "</style>\n",
       "<table border=\"1\" class=\"dataframe\">\n",
       "  <thead>\n",
       "    <tr style=\"text-align: right;\">\n",
       "      <th></th>\n",
       "      <th>STOCK_PRICE</th>\n",
       "      <th>DATE</th>\n",
       "      <th>MONTH</th>\n",
       "      <th>YEAR</th>\n",
       "      <th>YEAR-MONTH</th>\n",
       "    </tr>\n",
       "    <tr>\n",
       "      <th>DATE</th>\n",
       "      <th></th>\n",
       "      <th></th>\n",
       "      <th></th>\n",
       "      <th></th>\n",
       "      <th></th>\n",
       "    </tr>\n",
       "  </thead>\n",
       "  <tbody>\n",
       "    <tr>\n",
       "      <th>03-01-2000</th>\n",
       "      <td>122.480469</td>\n",
       "      <td>2000-01-03</td>\n",
       "      <td>Jan</td>\n",
       "      <td>2000</td>\n",
       "      <td>2000-01</td>\n",
       "    </tr>\n",
       "    <tr>\n",
       "      <th>04-01-2000</th>\n",
       "      <td>132.110931</td>\n",
       "      <td>2000-01-04</td>\n",
       "      <td>Jan</td>\n",
       "      <td>2000</td>\n",
       "      <td>2000-01</td>\n",
       "    </tr>\n",
       "    <tr>\n",
       "      <th>05-01-2000</th>\n",
       "      <td>121.542191</td>\n",
       "      <td>2000-01-05</td>\n",
       "      <td>Jan</td>\n",
       "      <td>2000</td>\n",
       "      <td>2000-01</td>\n",
       "    </tr>\n",
       "    <tr>\n",
       "      <th>06-01-2000</th>\n",
       "      <td>111.819138</td>\n",
       "      <td>2000-01-06</td>\n",
       "      <td>Jan</td>\n",
       "      <td>2000</td>\n",
       "      <td>2000-01</td>\n",
       "    </tr>\n",
       "    <tr>\n",
       "      <th>07-01-2000</th>\n",
       "      <td>102.873825</td>\n",
       "      <td>2000-01-07</td>\n",
       "      <td>Jan</td>\n",
       "      <td>2000</td>\n",
       "      <td>2000-01</td>\n",
       "    </tr>\n",
       "    <tr>\n",
       "      <th>...</th>\n",
       "      <td>...</td>\n",
       "      <td>...</td>\n",
       "      <td>...</td>\n",
       "      <td>...</td>\n",
       "      <td>...</td>\n",
       "    </tr>\n",
       "    <tr>\n",
       "      <th>10-11-2023</th>\n",
       "      <td>1368.699951</td>\n",
       "      <td>2023-11-10</td>\n",
       "      <td>Nov</td>\n",
       "      <td>2023</td>\n",
       "      <td>2023-11</td>\n",
       "    </tr>\n",
       "    <tr>\n",
       "      <th>13-11-2023</th>\n",
       "      <td>1374.150024</td>\n",
       "      <td>2023-11-13</td>\n",
       "      <td>Nov</td>\n",
       "      <td>2023</td>\n",
       "      <td>2023-11</td>\n",
       "    </tr>\n",
       "    <tr>\n",
       "      <th>15-11-2023</th>\n",
       "      <td>1411.150024</td>\n",
       "      <td>2023-11-15</td>\n",
       "      <td>Nov</td>\n",
       "      <td>2023</td>\n",
       "      <td>2023-11</td>\n",
       "    </tr>\n",
       "    <tr>\n",
       "      <th>16-11-2023</th>\n",
       "      <td>1443.900024</td>\n",
       "      <td>2023-11-16</td>\n",
       "      <td>Nov</td>\n",
       "      <td>2023</td>\n",
       "      <td>2023-11</td>\n",
       "    </tr>\n",
       "    <tr>\n",
       "      <th>17-11-2023</th>\n",
       "      <td>1437.650024</td>\n",
       "      <td>2023-11-17</td>\n",
       "      <td>Nov</td>\n",
       "      <td>2023</td>\n",
       "      <td>2023-11</td>\n",
       "    </tr>\n",
       "  </tbody>\n",
       "</table>\n",
       "<p>5922 rows × 5 columns</p>\n",
       "</div>"
      ],
      "text/plain": [
       "            STOCK_PRICE       DATE MONTH  YEAR YEAR-MONTH\n",
       "DATE                                                     \n",
       "03-01-2000   122.480469 2000-01-03   Jan  2000    2000-01\n",
       "04-01-2000   132.110931 2000-01-04   Jan  2000    2000-01\n",
       "05-01-2000   121.542191 2000-01-05   Jan  2000    2000-01\n",
       "06-01-2000   111.819138 2000-01-06   Jan  2000    2000-01\n",
       "07-01-2000   102.873825 2000-01-07   Jan  2000    2000-01\n",
       "...                 ...        ...   ...   ...        ...\n",
       "10-11-2023  1368.699951 2023-11-10   Nov  2023    2023-11\n",
       "13-11-2023  1374.150024 2023-11-13   Nov  2023    2023-11\n",
       "15-11-2023  1411.150024 2023-11-15   Nov  2023    2023-11\n",
       "16-11-2023  1443.900024 2023-11-16   Nov  2023    2023-11\n",
       "17-11-2023  1437.650024 2023-11-17   Nov  2023    2023-11\n",
       "\n",
       "[5922 rows x 5 columns]"
      ]
     },
     "execution_count": 31,
     "metadata": {},
     "output_type": "execute_result"
    }
   ],
   "source": [
    "stock_data[\"MONTH\"] = stock_data.DATE.dt.strftime(\"%b\") # month extraction\n",
    "stock_data[\"YEAR\"] = stock_data.DATE.dt.strftime(\"%Y\") # year extraction\n",
    "stock_data[\"YEAR-MONTH\"] = stock_data.DATE.dt.strftime(\"%Y-%m\")\n",
    "stock_data_bak = stock_data.copy()\n",
    "stock_data"
   ]
  },
  {
   "cell_type": "code",
   "execution_count": 32,
   "metadata": {},
   "outputs": [],
   "source": [
    "def replace_outlier(df_in, col_name):\n",
    "    Q1 = df_in[col_name].quantile(0.25)\n",
    "    Q3 = df_in[col_name].quantile(0.75)\n",
    "    IQR = Q3 - Q1 # Interquartile range\n",
    "    upper = Q3 + 1.5*IQR\n",
    "    lower = Q1 - 1.5*IQR\n",
    "    median_val = df_in[col_name].median()\n",
    "    df_out = df_in.copy()\n",
    "    for i, j in df_in.iterrows():\n",
    "        if (j[col_name] > upper):\n",
    "            df_out.at[i, col_name] = upper\n",
    "        elif (j[col_name] < lower):\n",
    "            df_out.at[i, col_name] = lower\n",
    "        else:\n",
    "            df_out.at[i, col_name] = df_out.at[i, col_name]\n",
    "    return df_out"
   ]
  },
  {
   "cell_type": "code",
   "execution_count": 33,
   "metadata": {},
   "outputs": [],
   "source": [
    "def check_outliers(df_in, col_name):\n",
    "    Q1 = df_in[col_name].quantile(0.25)\n",
    "    Q3 = df_in[col_name].quantile(0.75)\n",
    "    IQR = Q3 - Q1 # Interquartile range\n",
    "    upper = Q3 + 1.5*IQR\n",
    "    lower = Q1 - 1.5*IQR\n",
    "    outliers = False\n",
    "    for i, j in df_in.iterrows():\n",
    "        if (j[col_name] > upper):\n",
    "            outliers = True\n",
    "        elif (j[col_name] < lower):\n",
    "            outliers = True\n",
    "    return outliers"
   ]
  },
  {
   "cell_type": "code",
   "execution_count": 34,
   "metadata": {},
   "outputs": [],
   "source": [
    "# Removing the outliers and saving them in the dataframe stock_data_bak\n",
    "ym_periods = stock_data['YEAR-MONTH'].unique()\n",
    "ym_periods\n",
    "for ym in ym_periods:\n",
    "    temp_s_data = stock_data.groupby(['YEAR-MONTH']).get_group(ym)\n",
    "    col_name = 'STOCK_PRICE'\n",
    "    for i in range(1, 50):\n",
    "        if (check_outliers(temp_s_data, col_name) == True):\n",
    "            stock_data_out = replace_outlier(temp_s_data, col_name)\n",
    "            stock_data_bak = stock_data_bak.set_index('DATE')\n",
    "            stock_data_out = stock_data_out.set_index('DATE')\n",
    "            stock_data_bak.update(stock_data_out)\n",
    "            stock_data_bak.reset_index(inplace=True)"
   ]
  },
  {
   "cell_type": "code",
   "execution_count": 35,
   "metadata": {},
   "outputs": [
    {
     "data": {
      "text/html": [
       "<div>\n",
       "<style scoped>\n",
       "    .dataframe tbody tr th:only-of-type {\n",
       "        vertical-align: middle;\n",
       "    }\n",
       "\n",
       "    .dataframe tbody tr th {\n",
       "        vertical-align: top;\n",
       "    }\n",
       "\n",
       "    .dataframe thead th {\n",
       "        text-align: right;\n",
       "    }\n",
       "</style>\n",
       "<table border=\"1\" class=\"dataframe\">\n",
       "  <thead>\n",
       "    <tr style=\"text-align: right;\">\n",
       "      <th></th>\n",
       "      <th>STOCK_PRICE</th>\n",
       "      <th>MONTH</th>\n",
       "      <th>YEAR</th>\n",
       "      <th>YEAR-MONTH</th>\n",
       "      <th>DATE</th>\n",
       "    </tr>\n",
       "    <tr>\n",
       "      <th>DATE</th>\n",
       "      <th></th>\n",
       "      <th></th>\n",
       "      <th></th>\n",
       "      <th></th>\n",
       "      <th></th>\n",
       "    </tr>\n",
       "  </thead>\n",
       "  <tbody>\n",
       "    <tr>\n",
       "      <th>2000-01-03</th>\n",
       "      <td>122.480469</td>\n",
       "      <td>Jan</td>\n",
       "      <td>2000</td>\n",
       "      <td>2000-01</td>\n",
       "      <td>2000-01-03</td>\n",
       "    </tr>\n",
       "    <tr>\n",
       "      <th>2000-01-04</th>\n",
       "      <td>132.110931</td>\n",
       "      <td>Jan</td>\n",
       "      <td>2000</td>\n",
       "      <td>2000-01</td>\n",
       "      <td>2000-01-04</td>\n",
       "    </tr>\n",
       "    <tr>\n",
       "      <th>2000-01-05</th>\n",
       "      <td>121.542191</td>\n",
       "      <td>Jan</td>\n",
       "      <td>2000</td>\n",
       "      <td>2000-01</td>\n",
       "      <td>2000-01-05</td>\n",
       "    </tr>\n",
       "    <tr>\n",
       "      <th>2000-01-06</th>\n",
       "      <td>111.819138</td>\n",
       "      <td>Jan</td>\n",
       "      <td>2000</td>\n",
       "      <td>2000-01</td>\n",
       "      <td>2000-01-06</td>\n",
       "    </tr>\n",
       "    <tr>\n",
       "      <th>2000-01-07</th>\n",
       "      <td>102.873825</td>\n",
       "      <td>Jan</td>\n",
       "      <td>2000</td>\n",
       "      <td>2000-01</td>\n",
       "      <td>2000-01-07</td>\n",
       "    </tr>\n",
       "    <tr>\n",
       "      <th>...</th>\n",
       "      <td>...</td>\n",
       "      <td>...</td>\n",
       "      <td>...</td>\n",
       "      <td>...</td>\n",
       "      <td>...</td>\n",
       "    </tr>\n",
       "    <tr>\n",
       "      <th>2023-11-10</th>\n",
       "      <td>1368.699951</td>\n",
       "      <td>Nov</td>\n",
       "      <td>2023</td>\n",
       "      <td>2023-11</td>\n",
       "      <td>2023-11-10</td>\n",
       "    </tr>\n",
       "    <tr>\n",
       "      <th>2023-11-13</th>\n",
       "      <td>1374.150024</td>\n",
       "      <td>Nov</td>\n",
       "      <td>2023</td>\n",
       "      <td>2023-11</td>\n",
       "      <td>2023-11-13</td>\n",
       "    </tr>\n",
       "    <tr>\n",
       "      <th>2023-11-15</th>\n",
       "      <td>1411.150024</td>\n",
       "      <td>Nov</td>\n",
       "      <td>2023</td>\n",
       "      <td>2023-11</td>\n",
       "      <td>2023-11-15</td>\n",
       "    </tr>\n",
       "    <tr>\n",
       "      <th>2023-11-16</th>\n",
       "      <td>1443.900024</td>\n",
       "      <td>Nov</td>\n",
       "      <td>2023</td>\n",
       "      <td>2023-11</td>\n",
       "      <td>2023-11-16</td>\n",
       "    </tr>\n",
       "    <tr>\n",
       "      <th>2023-11-17</th>\n",
       "      <td>1437.650024</td>\n",
       "      <td>Nov</td>\n",
       "      <td>2023</td>\n",
       "      <td>2023-11</td>\n",
       "      <td>2023-11-17</td>\n",
       "    </tr>\n",
       "  </tbody>\n",
       "</table>\n",
       "<p>5922 rows × 5 columns</p>\n",
       "</div>"
      ],
      "text/plain": [
       "            STOCK_PRICE MONTH  YEAR YEAR-MONTH       DATE\n",
       "DATE                                                     \n",
       "2000-01-03   122.480469   Jan  2000    2000-01 2000-01-03\n",
       "2000-01-04   132.110931   Jan  2000    2000-01 2000-01-04\n",
       "2000-01-05   121.542191   Jan  2000    2000-01 2000-01-05\n",
       "2000-01-06   111.819138   Jan  2000    2000-01 2000-01-06\n",
       "2000-01-07   102.873825   Jan  2000    2000-01 2000-01-07\n",
       "...                 ...   ...   ...        ...        ...\n",
       "2023-11-10  1368.699951   Nov  2023    2023-11 2023-11-10\n",
       "2023-11-13  1374.150024   Nov  2023    2023-11 2023-11-13\n",
       "2023-11-15  1411.150024   Nov  2023    2023-11 2023-11-15\n",
       "2023-11-16  1443.900024   Nov  2023    2023-11 2023-11-16\n",
       "2023-11-17  1437.650024   Nov  2023    2023-11 2023-11-17\n",
       "\n",
       "[5922 rows x 5 columns]"
      ]
     },
     "execution_count": 35,
     "metadata": {},
     "output_type": "execute_result"
    }
   ],
   "source": [
    "stock_data_bak.set_index('DATE',inplace=True)\n",
    "stock_data_bak['DATE'] = pd.to_datetime(stock_data_bak.index,format='%Y-%m-%d')\n",
    "stock_data_bak"
   ]
  },
  {
   "cell_type": "markdown",
   "metadata": {},
   "source": [
    "##### **INFERENCE** #####\n",
    "**We have been able to impute the outliers using the function to substitute the outliers with the upper/lower limit values**\n",
    "1. The before year graph shows the monthly outliers before imputation.\n",
    "2. The after year graph shows the monthly outliers after imputation.\n",
    "3. Now we see that all outliers have been fixed and don't see any outliers."
   ]
  },
  {
   "cell_type": "code",
   "execution_count": 36,
   "metadata": {},
   "outputs": [],
   "source": [
    "# Substituting the dataframe stock_data with the dataframe stock_data_bak, which does not have any outliers\n",
    "stock_data = stock_data_bak.copy()"
   ]
  },
  {
   "cell_type": "code",
   "execution_count": 37,
   "metadata": {},
   "outputs": [],
   "source": [
    "stock_data_input = stock_data[['STOCK_PRICE']]"
   ]
  },
  {
   "cell_type": "code",
   "execution_count": 38,
   "metadata": {},
   "outputs": [
    {
     "data": {
      "text/plain": [
       "array([ 122.480469,  132.110931,  121.542191, ..., 1411.150024,\n",
       "       1443.900024, 1437.650024])"
      ]
     },
     "execution_count": 38,
     "metadata": {},
     "output_type": "execute_result"
    }
   ],
   "source": [
    "stdata = np.array(stock_data['STOCK_PRICE'])\n",
    "stdata"
   ]
  },
  {
   "cell_type": "code",
   "execution_count": 39,
   "metadata": {},
   "outputs": [],
   "source": [
    "split_percent = 0.80\n",
    "train_data, test_data = stock_data_input[:int(len(stock_data_input)*split_percent)], stock_data_input[int(len(stock_data_input)*split_percent):]\n"
   ]
  },
  {
   "cell_type": "code",
   "execution_count": 40,
   "metadata": {},
   "outputs": [
    {
     "data": {
      "image/png": "[encoded data removed]",
      "text/plain": [
       "<Figure size 2000x700 with 1 Axes>"
      ]
     },
     "metadata": {},
     "output_type": "display_data"
    }
   ],
   "source": [
    "plt.figure(figsize=(20,7))\n",
    "plt.grid(True)\n",
    "plt.xlabel('Years', weight='bold', fontfamily = \"Times New Roman\", size = '14')\n",
    "plt.ylabel('Closing Stock Prices', weight='bold', fontfamily = \"Times New Roman\", size = '14')\n",
    "plt.xticks(fontfamily = \"Times New Roman\", size=15)\n",
    "plt.yticks(fontfamily = \"Times New Roman\", size=15)\n",
    "plt.plot(stock_data_input, color='green', label='Train data')\n",
    "plt.plot(test_data, color='blue', label='Test data')\n",
    "plt.title(\"Train and Test Data Plotting\\n\\n\", verticalalignment=\"center\", weight='bold', fontfamily = \"Times New Roman\", size = '18')\n",
    "plt.legend()\n",
    "plt.show()"
   ]
  },
  {
   "cell_type": "code",
   "execution_count": 41,
   "metadata": {},
   "outputs": [
    {
     "data": {
      "text/html": [
       "<div>\n",
       "<style scoped>\n",
       "    .dataframe tbody tr th:only-of-type {\n",
       "        vertical-align: middle;\n",
       "    }\n",
       "\n",
       "    .dataframe tbody tr th {\n",
       "        vertical-align: top;\n",
       "    }\n",
       "\n",
       "    .dataframe thead th {\n",
       "        text-align: right;\n",
       "    }\n",
       "</style>\n",
       "<table border=\"1\" class=\"dataframe\">\n",
       "  <thead>\n",
       "    <tr style=\"text-align: right;\">\n",
       "      <th></th>\n",
       "      <th>DATE</th>\n",
       "      <th>STOCK_PRICE</th>\n",
       "    </tr>\n",
       "  </thead>\n",
       "  <tbody>\n",
       "    <tr>\n",
       "      <th>0</th>\n",
       "      <td>2000-01-03</td>\n",
       "      <td>122.480469</td>\n",
       "    </tr>\n",
       "    <tr>\n",
       "      <th>1</th>\n",
       "      <td>2000-01-04</td>\n",
       "      <td>132.110931</td>\n",
       "    </tr>\n",
       "    <tr>\n",
       "      <th>2</th>\n",
       "      <td>2000-01-05</td>\n",
       "      <td>121.542191</td>\n",
       "    </tr>\n",
       "    <tr>\n",
       "      <th>3</th>\n",
       "      <td>2000-01-06</td>\n",
       "      <td>111.819138</td>\n",
       "    </tr>\n",
       "    <tr>\n",
       "      <th>4</th>\n",
       "      <td>2000-01-07</td>\n",
       "      <td>102.873825</td>\n",
       "    </tr>\n",
       "    <tr>\n",
       "      <th>...</th>\n",
       "      <td>...</td>\n",
       "      <td>...</td>\n",
       "    </tr>\n",
       "    <tr>\n",
       "      <th>5917</th>\n",
       "      <td>2023-11-10</td>\n",
       "      <td>1368.699951</td>\n",
       "    </tr>\n",
       "    <tr>\n",
       "      <th>5918</th>\n",
       "      <td>2023-11-13</td>\n",
       "      <td>1374.150024</td>\n",
       "    </tr>\n",
       "    <tr>\n",
       "      <th>5919</th>\n",
       "      <td>2023-11-15</td>\n",
       "      <td>1411.150024</td>\n",
       "    </tr>\n",
       "    <tr>\n",
       "      <th>5920</th>\n",
       "      <td>2023-11-16</td>\n",
       "      <td>1443.900024</td>\n",
       "    </tr>\n",
       "    <tr>\n",
       "      <th>5921</th>\n",
       "      <td>2023-11-17</td>\n",
       "      <td>1437.650024</td>\n",
       "    </tr>\n",
       "  </tbody>\n",
       "</table>\n",
       "<p>5922 rows × 2 columns</p>\n",
       "</div>"
      ],
      "text/plain": [
       "           DATE  STOCK_PRICE\n",
       "0    2000-01-03   122.480469\n",
       "1    2000-01-04   132.110931\n",
       "2    2000-01-05   121.542191\n",
       "3    2000-01-06   111.819138\n",
       "4    2000-01-07   102.873825\n",
       "...         ...          ...\n",
       "5917 2023-11-10  1368.699951\n",
       "5918 2023-11-13  1374.150024\n",
       "5919 2023-11-15  1411.150024\n",
       "5920 2023-11-16  1443.900024\n",
       "5921 2023-11-17  1437.650024\n",
       "\n",
       "[5922 rows x 2 columns]"
      ]
     },
     "execution_count": 41,
     "metadata": {},
     "output_type": "execute_result"
    }
   ],
   "source": [
    "st_data = stock_data[['STOCK_PRICE']]\n",
    "st_data.reset_index()"
   ]
  },
  {
   "cell_type": "code",
   "execution_count": 42,
   "metadata": {},
   "outputs": [],
   "source": [
    "stocks= pd.DataFrame()\n",
    "stocks['STOCK_PRICE'] = stock_data[['STOCK_PRICE']]"
   ]
  },
  {
   "cell_type": "code",
   "execution_count": 43,
   "metadata": {},
   "outputs": [
    {
     "data": {
      "text/html": [
       "<div>\n",
       "<style scoped>\n",
       "    .dataframe tbody tr th:only-of-type {\n",
       "        vertical-align: middle;\n",
       "    }\n",
       "\n",
       "    .dataframe tbody tr th {\n",
       "        vertical-align: top;\n",
       "    }\n",
       "\n",
       "    .dataframe thead th {\n",
       "        text-align: right;\n",
       "    }\n",
       "</style>\n",
       "<table border=\"1\" class=\"dataframe\">\n",
       "  <thead>\n",
       "    <tr style=\"text-align: right;\">\n",
       "      <th></th>\n",
       "      <th>STOCK_PRICE</th>\n",
       "    </tr>\n",
       "    <tr>\n",
       "      <th>DATE</th>\n",
       "      <th></th>\n",
       "    </tr>\n",
       "  </thead>\n",
       "  <tbody>\n",
       "    <tr>\n",
       "      <th>2000-01-03</th>\n",
       "      <td>4.807952</td>\n",
       "    </tr>\n",
       "    <tr>\n",
       "      <th>2000-01-04</th>\n",
       "      <td>4.883642</td>\n",
       "    </tr>\n",
       "    <tr>\n",
       "      <th>2000-01-05</th>\n",
       "      <td>4.800261</td>\n",
       "    </tr>\n",
       "    <tr>\n",
       "      <th>2000-01-06</th>\n",
       "      <td>4.716883</td>\n",
       "    </tr>\n",
       "    <tr>\n",
       "      <th>2000-01-07</th>\n",
       "      <td>4.633503</td>\n",
       "    </tr>\n",
       "  </tbody>\n",
       "</table>\n",
       "</div>"
      ],
      "text/plain": [
       "            STOCK_PRICE\n",
       "DATE                   \n",
       "2000-01-03     4.807952\n",
       "2000-01-04     4.883642\n",
       "2000-01-05     4.800261\n",
       "2000-01-06     4.716883\n",
       "2000-01-07     4.633503"
      ]
     },
     "metadata": {},
     "output_type": "display_data"
    },
    {
     "data": {
      "image/png": "[encoded data removed]",
      "text/plain": [
       "<Figure size 2000x1400 with 2 Axes>"
      ]
     },
     "metadata": {},
     "output_type": "display_data"
    }
   ],
   "source": [
    "data_boxcox = pd.DataFrame()\n",
    "data_boxcox['STOCK_PRICE'] = boxcox(stocks['STOCK_PRICE'], 0)\n",
    "data_boxcox.index = stocks.index\n",
    "display(data_boxcox.head())\n",
    "fig, axis = plt.subplots(2,figsize=(20,14),)\n",
    "axis[0].plot(data_boxcox)\n",
    "axis[0].set_title('After Box Cox Transformation')\n",
    "axis[1].plot(stocks, label='original')\n",
    "axis[1].set_title('Original')\n",
    "plt.show()"
   ]
  },
  {
   "cell_type": "code",
   "execution_count": 44,
   "metadata": {},
   "outputs": [
    {
     "name": "stdout",
     "output_type": "stream",
     "text": [
      "                inverse\n",
      "DATE                   \n",
      "2000-01-03   122.480469\n",
      "2000-01-04   132.110931\n",
      "2000-01-05   121.542191\n",
      "2000-01-06   111.819138\n",
      "2000-01-07   102.873825\n",
      "...                 ...\n",
      "2023-11-10  1368.699951\n",
      "2023-11-13  1374.150024\n",
      "2023-11-15  1411.150024\n",
      "2023-11-16  1443.900024\n",
      "2023-11-17  1437.650024\n",
      "\n",
      "[5922 rows x 1 columns] DATE\n",
      "2000-01-03     122.480469\n",
      "2000-01-04     132.110931\n",
      "2000-01-05     121.542191\n",
      "2000-01-06     111.819138\n",
      "2000-01-07     102.873825\n",
      "                 ...     \n",
      "2023-11-10    1368.699951\n",
      "2023-11-13    1374.150024\n",
      "2023-11-15    1411.150024\n",
      "2023-11-16    1443.900024\n",
      "2023-11-17    1437.650024\n",
      "Name: STOCK_PRICE, Length: 5922, dtype: float64\n"
     ]
    }
   ],
   "source": [
    "from scipy.special import boxcox, inv_boxcox\n",
    "df = pd.DataFrame()\n",
    "df['inverse'] = inv_boxcox(data_boxcox['STOCK_PRICE'], 0)\n",
    "print(df, stocks['STOCK_PRICE'])"
   ]
  },
  {
   "cell_type": "code",
   "execution_count": 45,
   "metadata": {},
   "outputs": [
    {
     "data": {
      "image/png": "[encoded data removed]",
      "text/plain": [
       "<Figure size 2000x700 with 1 Axes>"
      ]
     },
     "metadata": {},
     "output_type": "display_data"
    }
   ],
   "source": [
    "# Differencing of the Box-Cox Transformation\n",
    "data_boxcox_diff = data_boxcox - data_boxcox.shift() # Performs difference between the previous and current observations.\n",
    "data_boxcox_diff.dropna(inplace=True)\n",
    "plt.figure(figsize=(20,7))\n",
    "plt.plot(data_boxcox, label='After Box Cox Transformation and Differencing')\n",
    "plt.legend(loc='best')\n",
    "plt.show()"
   ]
  },
  {
   "cell_type": "code",
   "execution_count": 46,
   "metadata": {},
   "outputs": [],
   "source": [
    "split_percent = 0.80\n",
    "train_data_boxcox, test_data_boxcox = data_boxcox[:int(len(data_boxcox)*split_percent)], data_boxcox[int(len(data_boxcox)*split_percent):]\n",
    "train_data_boxcox_diff, test_data_boxcox_diff = data_boxcox_diff[:int(len(data_boxcox_diff)*split_percent)], data_boxcox_diff[int(len(data_boxcox_diff)*split_percent):]"
   ]
  },
  {
   "cell_type": "code",
   "execution_count": 47,
   "metadata": {},
   "outputs": [
    {
     "data": {
      "text/plain": [
       "0       4.807952\n",
       "1       4.883642\n",
       "2       4.800261\n",
       "3       4.716883\n",
       "4       4.633503\n",
       "          ...   \n",
       "5917    7.221617\n",
       "5918    7.225591\n",
       "5919    7.252160\n",
       "5920    7.275103\n",
       "5921    7.270765\n",
       "Name: STOCK_PRICE, Length: 5922, dtype: float64"
      ]
     },
     "execution_count": 47,
     "metadata": {},
     "output_type": "execute_result"
    }
   ],
   "source": [
    "sdata_bc = data_boxcox.copy()\n",
    "sdata_bc.reset_index(drop=True, inplace=True)\n",
    "sdata_bc['STOCK_PRICE']"
   ]
  },
  {
   "cell_type": "code",
   "execution_count": 48,
   "metadata": {},
   "outputs": [
    {
     "data": {
      "text/html": [
       "<div>\n",
       "<style scoped>\n",
       "    .dataframe tbody tr th:only-of-type {\n",
       "        vertical-align: middle;\n",
       "    }\n",
       "\n",
       "    .dataframe tbody tr th {\n",
       "        vertical-align: top;\n",
       "    }\n",
       "\n",
       "    .dataframe thead th {\n",
       "        text-align: right;\n",
       "    }\n",
       "</style>\n",
       "<table border=\"1\" class=\"dataframe\">\n",
       "  <thead>\n",
       "    <tr style=\"text-align: right;\">\n",
       "      <th></th>\n",
       "      <th>STOCK_PRICE</th>\n",
       "      <th>DIFF</th>\n",
       "      <th>INVERSE</th>\n",
       "    </tr>\n",
       "  </thead>\n",
       "  <tbody>\n",
       "    <tr>\n",
       "      <th>0</th>\n",
       "      <td>122.480469</td>\n",
       "      <td>4.807952</td>\n",
       "      <td>122.480469</td>\n",
       "    </tr>\n",
       "    <tr>\n",
       "      <th>1</th>\n",
       "      <td>132.110931</td>\n",
       "      <td>4.883642</td>\n",
       "      <td>132.110931</td>\n",
       "    </tr>\n",
       "    <tr>\n",
       "      <th>2</th>\n",
       "      <td>121.542191</td>\n",
       "      <td>4.800261</td>\n",
       "      <td>121.542191</td>\n",
       "    </tr>\n",
       "    <tr>\n",
       "      <th>3</th>\n",
       "      <td>111.819138</td>\n",
       "      <td>4.716883</td>\n",
       "      <td>111.819138</td>\n",
       "    </tr>\n",
       "    <tr>\n",
       "      <th>4</th>\n",
       "      <td>102.873825</td>\n",
       "      <td>4.633503</td>\n",
       "      <td>102.873825</td>\n",
       "    </tr>\n",
       "    <tr>\n",
       "      <th>...</th>\n",
       "      <td>...</td>\n",
       "      <td>...</td>\n",
       "      <td>...</td>\n",
       "    </tr>\n",
       "    <tr>\n",
       "      <th>5917</th>\n",
       "      <td>1368.699951</td>\n",
       "      <td>7.221617</td>\n",
       "      <td>1368.699951</td>\n",
       "    </tr>\n",
       "    <tr>\n",
       "      <th>5918</th>\n",
       "      <td>1374.150024</td>\n",
       "      <td>7.225591</td>\n",
       "      <td>1374.150024</td>\n",
       "    </tr>\n",
       "    <tr>\n",
       "      <th>5919</th>\n",
       "      <td>1411.150024</td>\n",
       "      <td>7.252160</td>\n",
       "      <td>1411.150024</td>\n",
       "    </tr>\n",
       "    <tr>\n",
       "      <th>5920</th>\n",
       "      <td>1443.900024</td>\n",
       "      <td>7.275103</td>\n",
       "      <td>1443.900024</td>\n",
       "    </tr>\n",
       "    <tr>\n",
       "      <th>5921</th>\n",
       "      <td>1437.650024</td>\n",
       "      <td>7.270765</td>\n",
       "      <td>1437.650024</td>\n",
       "    </tr>\n",
       "  </tbody>\n",
       "</table>\n",
       "<p>5922 rows × 3 columns</p>\n",
       "</div>"
      ],
      "text/plain": [
       "      STOCK_PRICE      DIFF      INVERSE\n",
       "0      122.480469  4.807952   122.480469\n",
       "1      132.110931  4.883642   132.110931\n",
       "2      121.542191  4.800261   121.542191\n",
       "3      111.819138  4.716883   111.819138\n",
       "4      102.873825  4.633503   102.873825\n",
       "...           ...       ...          ...\n",
       "5917  1368.699951  7.221617  1368.699951\n",
       "5918  1374.150024  7.225591  1374.150024\n",
       "5919  1411.150024  7.252160  1411.150024\n",
       "5920  1443.900024  7.275103  1443.900024\n",
       "5921  1437.650024  7.270765  1437.650024\n",
       "\n",
       "[5922 rows x 3 columns]"
      ]
     },
     "execution_count": 48,
     "metadata": {},
     "output_type": "execute_result"
    }
   ],
   "source": [
    "visualization_arima_bc = pd.DataFrame()\n",
    "visualization_arima_bc['STOCK_PRICE'] = stock_data_input['STOCK_PRICE']\n",
    "visualization_arima_bc['DIFF'] = data_boxcox['STOCK_PRICE']\n",
    "visualization_arima_bc['INVERSE'] = inv_boxcox(data_boxcox['STOCK_PRICE'], 0)\n",
    "visualization_arima_bc.reset_index(drop=True, inplace=True)\n",
    "visualization_arima_bc\n",
    "# visualization_arima_bc"
   ]
  },
  {
   "cell_type": "code",
   "execution_count": 49,
   "metadata": {},
   "outputs": [
    {
     "name": "stdout",
     "output_type": "stream",
     "text": [
      "                               SARIMAX Results                                \n",
      "==============================================================================\n",
      "Dep. Variable:            STOCK_PRICE   No. Observations:                 5922\n",
      "Model:                 ARIMA(1, 0, 2)   Log Likelihood              -22364.561\n",
      "Date:                Tue, 19 Dec 2023   AIC                          44739.123\n",
      "Time:                        01:14:39   BIC                          44772.555\n",
      "Sample:                             0   HQIC                         44750.740\n",
      "                               - 5922                                         \n",
      "Covariance Type:                  opg                                         \n",
      "==============================================================================\n",
      "                 coef    std err          z      P>|z|      [0.025      0.975]\n",
      "------------------------------------------------------------------------------\n",
      "const        472.8797   1086.507      0.435      0.663   -1656.634    2602.393\n",
      "ar.L1          0.9998      0.000   3964.175      0.000       0.999       1.000\n",
      "ma.L1          0.0379      0.006      6.220      0.000       0.026       0.050\n",
      "ma.L2         -0.0190      0.006     -3.145      0.002      -0.031      -0.007\n",
      "sigma2       111.4712      0.604    184.656      0.000     110.288     112.654\n",
      "===================================================================================\n",
      "Ljung-Box (L1) (Q):                   0.00   Jarque-Bera (JB):            125661.09\n",
      "Prob(Q):                              0.96   Prob(JB):                         0.00\n",
      "Heteroskedasticity (H):              26.25   Skew:                            -0.93\n",
      "Prob(H) (two-sided):                  0.00   Kurtosis:                        25.49\n",
      "===================================================================================\n",
      "\n",
      "Warnings:\n",
      "[1] Covariance matrix calculated using the outer product of gradients (complex-step).\n",
      "5922    1436.647762\n",
      "5923    1436.621506\n",
      "5924    1436.469940\n",
      "5925    1436.318398\n",
      "5926    1436.166879\n",
      "5927    1436.015385\n",
      "5928    1435.863914\n",
      "5929    1435.712467\n",
      "5930    1435.561044\n",
      "5931    1435.409644\n",
      "5932    1435.258269\n",
      "Name: predicted_mean, dtype: float64\n"
     ]
    },
    {
     "data": {
      "text/plain": [
       "Text(0.5, 1.0, 'ARIMAX VISUALIZATION\\n\\n')"
      ]
     },
     "execution_count": 49,
     "metadata": {},
     "output_type": "execute_result"
    },
    {
     "data": {
      "image/png": "[encoded data removed]",
      "text/plain": [
       "<Figure size 2000x500 with 1 Axes>"
      ]
     },
     "metadata": {},
     "output_type": "display_data"
    }
   ],
   "source": [
    "# stats model and arima\n",
    "from statsmodels.tsa.arima.model import ARIMA\n",
    "p, d, q = 1, 0, 2\n",
    "duration = 10\n",
    "\n",
    "arima_pre_model = ARIMA(visualization_arima_bc['STOCK_PRICE'], order=(p, d, q))\n",
    "arima_pre_model = arima_pre_model.fit()\n",
    "print(arima_pre_model.summary())\n",
    "\n",
    "# Predict the next 356 days below in order to see the trend. In a normal scenario, we can just take it for 15-30 days.\n",
    "#forecast = arima_pre_model.predict(n_periods=30) # Alternate command for the below.\n",
    "forecast = arima_pre_model.predict(len(visualization_arima_bc['STOCK_PRICE']), len(visualization_arima_bc['STOCK_PRICE'])+duration)\n",
    "print(forecast)\n",
    "\n",
    "\n",
    "\n",
    "# plot forecast\n",
    "plt.figure(figsize=(20,5))\n",
    "plt.plot(visualization_arima_bc['STOCK_PRICE'], 'green', label='Actual')\n",
    "plt.plot(forecast, 'red', label='Forecast')\n",
    "plt.xlabel('INDEX', weight='bold', fontfamily = \"Times New Roman\", size = '14')\n",
    "plt.ylabel('STOCK PRICE', weight='bold', fontfamily = \"Times New Roman\", size = '14')\n",
    "plt.xticks(fontfamily = \"Times New Roman\", size=15)\n",
    "plt.yticks(fontfamily = \"Times New Roman\", size=15)\n",
    "plt.title(\"ARIMAX VISUALIZATION\\n\\n\", verticalalignment=\"center\", weight='bold', fontfamily = \"Times New Roman\", size = '18')\n"
   ]
  },
  {
   "cell_type": "code",
   "execution_count": 50,
   "metadata": {},
   "outputs": [
    {
     "data": {
      "text/plain": [
       "132.110931"
      ]
     },
     "execution_count": 50,
     "metadata": {},
     "output_type": "execute_result"
    }
   ],
   "source": [
    "len(visualization_arima_bc['STOCK_PRICE'])\n",
    "len(visualization_arima_bc['STOCK_PRICE'])+duration\n",
    "visualization_arima_bc.STOCK_PRICE[1]\n"
   ]
  },
  {
   "cell_type": "code",
   "execution_count": 51,
   "metadata": {},
   "outputs": [],
   "source": [
    "def get_metrics(dataset, pred):\n",
    "    rmse_val = np.round(np.sqrt(mean_squared_error(dataset, pred)),2)\n",
    "    mape_val = np.round(mean_absolute_percentage_error(dataset, pred)*100,2)\n",
    "    return rmse_val, mape_val"
   ]
  },
  {
   "cell_type": "code",
   "execution_count": 52,
   "metadata": {},
   "outputs": [
    {
     "name": "stdout",
     "output_type": "stream",
     "text": [
      "ARIMA Model Evaluation - \n",
      "Root Mean Squared Error (RMSE): 0.65\n",
      "Mean Absolute Percent Error (MAPE): 7.67\n",
      "\n"
     ]
    }
   ],
   "source": [
    "# stats model and arima\n",
    "from statsmodels.tsa.arima.model import ARIMA\n",
    "\n",
    "split_percent = 0.80\n",
    "arima_train_data, arima_test_data = data_boxcox[:int(len(data_boxcox)*split_percent)], data_boxcox[int(len(data_boxcox)*split_percent):]\n",
    "p, d, q = 2, 1, 0\n",
    "\n",
    "arima_model = ARIMA(arima_train_data['STOCK_PRICE'], order=(p, d, q))\n",
    "arima_model = arima_model.fit()\n",
    "arima_pred = arima_model.predict(int(len(data_boxcox)*split_percent), int(len(data_boxcox)*split_percent)+len(arima_test_data)-1)\n",
    "arima_rmse, arima_mape = get_metrics(arima_test_data['STOCK_PRICE'], arima_pred)\n",
    "print(f'ARIMA Model Evaluation - \\nRoot Mean Squared Error (RMSE): {arima_rmse}\\nMean Absolute Percent Error (MAPE): {arima_mape}\\n')"
   ]
  },
  {
   "cell_type": "code",
   "execution_count": 53,
   "metadata": {},
   "outputs": [],
   "source": [
    "def evaluate_arima_model(X, arima_order):\n",
    "    # prepare training dataset\n",
    "    train_size = int(len(X) * 0.80)\n",
    "    train, test = X[0:train_size], X[train_size:]\n",
    "    history = [x for x in train]\n",
    "    # make predictions\n",
    "    predictions = list()\n",
    "    for t in range(len(test)):\n",
    "        model = ARIMA(history, order=arima_order)\n",
    "        model_fit = model.fit()\n",
    "        yhat = model_fit.forecast()[0]\n",
    "        predictions.append(yhat)\n",
    "        history.append(test[t])\n",
    "    # calculate out of sample error\n",
    "    error = mean_squared_error(test, predictions)\n",
    "    return error"
   ]
  },
  {
   "cell_type": "code",
   "execution_count": 54,
   "metadata": {},
   "outputs": [],
   "source": [
    "p, d, q = 2, 1, 0\n",
    "order=(p, d, q)\n",
    "rmse = evaluate_arima_model(data_boxcox['STOCK_PRICE'], arima_order=order)"
   ]
  },
  {
   "cell_type": "code",
   "execution_count": 67,
   "metadata": {},
   "outputs": [
    {
     "data": {
      "text/plain": [
       "0.00033730041253846944"
      ]
     },
     "execution_count": 67,
     "metadata": {},
     "output_type": "execute_result"
    }
   ],
   "source": [
    "rmse"
   ]
  },
  {
   "cell_type": "code",
   "execution_count": 55,
   "metadata": {},
   "outputs": [],
   "source": [
    "arima_model.save('C://Users/Office/mypy_3.10/Project/arima_model.h5')"
   ]
  },
  {
   "cell_type": "code",
   "execution_count": 56,
   "metadata": {},
   "outputs": [
    {
     "name": "stdout",
     "output_type": "stream",
     "text": [
      "WARNING:tensorflow:From c:\\Users\\Office\\AppData\\Local\\Programs\\Python\\Python310\\lib\\site-packages\\keras\\src\\losses.py:2976: The name tf.losses.sparse_softmax_cross_entropy is deprecated. Please use tf.compat.v1.losses.sparse_softmax_cross_entropy instead.\n",
      "\n"
     ]
    }
   ],
   "source": [
    "from keras.models import load_model\n",
    "# arima_model = load_model(\"C://Users/Office/mypy_3.10/Project/arima_model.h5\")"
   ]
  },
  {
   "cell_type": "code",
   "execution_count": 57,
   "metadata": {},
   "outputs": [
    {
     "data": {
      "text/plain": [
       "5922    1436.647762\n",
       "5923    1436.621506\n",
       "5924    1436.469940\n",
       "5925    1436.318398\n",
       "5926    1436.166879\n",
       "5927    1436.015385\n",
       "5928    1435.863914\n",
       "5929    1435.712467\n",
       "5930    1435.561044\n",
       "5931    1435.409644\n",
       "5932    1435.258269\n",
       "Name: predicted_mean, dtype: float64"
      ]
     },
     "execution_count": 57,
     "metadata": {},
     "output_type": "execute_result"
    }
   ],
   "source": [
    "forecast"
   ]
  },
  {
   "cell_type": "code",
   "execution_count": 58,
   "metadata": {},
   "outputs": [
    {
     "data": {
      "text/plain": [
       "[1436.6477621395172,\n",
       " 1436.6215061985463,\n",
       " 1436.4699400714908,\n",
       " 1436.3183977809958,\n",
       " 1436.1668793233127,\n",
       " 1436.0153846946932,\n",
       " 1435.8639138913898,\n",
       " 1435.7124669096554,\n",
       " 1435.5610437457437,\n",
       " 1435.409644395909,\n",
       " 1435.258268856406]"
      ]
     },
     "execution_count": 58,
     "metadata": {},
     "output_type": "execute_result"
    }
   ],
   "source": [
    "forecast_list = forecast.tolist()\n",
    "forecast_list"
   ]
  },
  {
   "cell_type": "code",
   "execution_count": 59,
   "metadata": {},
   "outputs": [
    {
     "data": {
      "text/html": [
       "<div>\n",
       "<style scoped>\n",
       "    .dataframe tbody tr th:only-of-type {\n",
       "        vertical-align: middle;\n",
       "    }\n",
       "\n",
       "    .dataframe tbody tr th {\n",
       "        vertical-align: top;\n",
       "    }\n",
       "\n",
       "    .dataframe thead th {\n",
       "        text-align: right;\n",
       "    }\n",
       "</style>\n",
       "<table border=\"1\" class=\"dataframe\">\n",
       "  <thead>\n",
       "    <tr style=\"text-align: right;\">\n",
       "      <th></th>\n",
       "      <th>STOCK_PRICE</th>\n",
       "      <th>DATE</th>\n",
       "    </tr>\n",
       "  </thead>\n",
       "  <tbody>\n",
       "    <tr>\n",
       "      <th>0</th>\n",
       "      <td>122.480469</td>\n",
       "      <td>2000-01-03</td>\n",
       "    </tr>\n",
       "    <tr>\n",
       "      <th>1</th>\n",
       "      <td>132.110931</td>\n",
       "      <td>2000-01-04</td>\n",
       "    </tr>\n",
       "    <tr>\n",
       "      <th>2</th>\n",
       "      <td>121.542191</td>\n",
       "      <td>2000-01-05</td>\n",
       "    </tr>\n",
       "    <tr>\n",
       "      <th>3</th>\n",
       "      <td>111.819138</td>\n",
       "      <td>2000-01-06</td>\n",
       "    </tr>\n",
       "    <tr>\n",
       "      <th>4</th>\n",
       "      <td>102.873825</td>\n",
       "      <td>2000-01-07</td>\n",
       "    </tr>\n",
       "    <tr>\n",
       "      <th>...</th>\n",
       "      <td>...</td>\n",
       "      <td>...</td>\n",
       "    </tr>\n",
       "    <tr>\n",
       "      <th>5917</th>\n",
       "      <td>1368.699951</td>\n",
       "      <td>2023-11-10</td>\n",
       "    </tr>\n",
       "    <tr>\n",
       "      <th>5918</th>\n",
       "      <td>1374.150024</td>\n",
       "      <td>2023-11-13</td>\n",
       "    </tr>\n",
       "    <tr>\n",
       "      <th>5919</th>\n",
       "      <td>1411.150024</td>\n",
       "      <td>2023-11-15</td>\n",
       "    </tr>\n",
       "    <tr>\n",
       "      <th>5920</th>\n",
       "      <td>1443.900024</td>\n",
       "      <td>2023-11-16</td>\n",
       "    </tr>\n",
       "    <tr>\n",
       "      <th>5921</th>\n",
       "      <td>1437.650024</td>\n",
       "      <td>2023-11-17</td>\n",
       "    </tr>\n",
       "  </tbody>\n",
       "</table>\n",
       "<p>5922 rows × 2 columns</p>\n",
       "</div>"
      ],
      "text/plain": [
       "      STOCK_PRICE       DATE\n",
       "0      122.480469 2000-01-03\n",
       "1      132.110931 2000-01-04\n",
       "2      121.542191 2000-01-05\n",
       "3      111.819138 2000-01-06\n",
       "4      102.873825 2000-01-07\n",
       "...           ...        ...\n",
       "5917  1368.699951 2023-11-10\n",
       "5918  1374.150024 2023-11-13\n",
       "5919  1411.150024 2023-11-15\n",
       "5920  1443.900024 2023-11-16\n",
       "5921  1437.650024 2023-11-17\n",
       "\n",
       "[5922 rows x 2 columns]"
      ]
     },
     "execution_count": 59,
     "metadata": {},
     "output_type": "execute_result"
    }
   ],
   "source": [
    "import datetime\n",
    "final_arima_stock_data = stock_data_input.copy()\n",
    "final_arima_stock_data.reset_index(drop=True, inplace=True)\n",
    "final_arima_stock_data['DATE'] = stock_data_input.index\n",
    "final_arima_stock_data"
   ]
  },
  {
   "cell_type": "code",
   "execution_count": 60,
   "metadata": {},
   "outputs": [
    {
     "data": {
      "text/html": [
       "<div>\n",
       "<style scoped>\n",
       "    .dataframe tbody tr th:only-of-type {\n",
       "        vertical-align: middle;\n",
       "    }\n",
       "\n",
       "    .dataframe tbody tr th {\n",
       "        vertical-align: top;\n",
       "    }\n",
       "\n",
       "    .dataframe thead th {\n",
       "        text-align: right;\n",
       "    }\n",
       "</style>\n",
       "<table border=\"1\" class=\"dataframe\">\n",
       "  <thead>\n",
       "    <tr style=\"text-align: right;\">\n",
       "      <th></th>\n",
       "      <th>STOCK_PRICE</th>\n",
       "      <th>DATE</th>\n",
       "      <th>Indicator</th>\n",
       "    </tr>\n",
       "  </thead>\n",
       "  <tbody>\n",
       "    <tr>\n",
       "      <th>0</th>\n",
       "      <td>1436.647762</td>\n",
       "      <td>2023-11-18</td>\n",
       "      <td>forecasted</td>\n",
       "    </tr>\n",
       "    <tr>\n",
       "      <th>1</th>\n",
       "      <td>1436.621506</td>\n",
       "      <td>2023-11-19</td>\n",
       "      <td>forecasted</td>\n",
       "    </tr>\n",
       "    <tr>\n",
       "      <th>2</th>\n",
       "      <td>1436.469940</td>\n",
       "      <td>2023-11-20</td>\n",
       "      <td>forecasted</td>\n",
       "    </tr>\n",
       "    <tr>\n",
       "      <th>3</th>\n",
       "      <td>1436.318398</td>\n",
       "      <td>2023-11-21</td>\n",
       "      <td>forecasted</td>\n",
       "    </tr>\n",
       "    <tr>\n",
       "      <th>4</th>\n",
       "      <td>1436.166879</td>\n",
       "      <td>2023-11-22</td>\n",
       "      <td>forecasted</td>\n",
       "    </tr>\n",
       "    <tr>\n",
       "      <th>5</th>\n",
       "      <td>1436.015385</td>\n",
       "      <td>2023-11-23</td>\n",
       "      <td>forecasted</td>\n",
       "    </tr>\n",
       "    <tr>\n",
       "      <th>6</th>\n",
       "      <td>1435.863914</td>\n",
       "      <td>2023-11-24</td>\n",
       "      <td>forecasted</td>\n",
       "    </tr>\n",
       "    <tr>\n",
       "      <th>7</th>\n",
       "      <td>1435.712467</td>\n",
       "      <td>2023-11-25</td>\n",
       "      <td>forecasted</td>\n",
       "    </tr>\n",
       "    <tr>\n",
       "      <th>8</th>\n",
       "      <td>1435.561044</td>\n",
       "      <td>2023-11-26</td>\n",
       "      <td>forecasted</td>\n",
       "    </tr>\n",
       "    <tr>\n",
       "      <th>9</th>\n",
       "      <td>1435.409644</td>\n",
       "      <td>2023-11-27</td>\n",
       "      <td>forecasted</td>\n",
       "    </tr>\n",
       "    <tr>\n",
       "      <th>10</th>\n",
       "      <td>1435.258269</td>\n",
       "      <td>2023-11-28</td>\n",
       "      <td>forecasted</td>\n",
       "    </tr>\n",
       "  </tbody>\n",
       "</table>\n",
       "</div>"
      ],
      "text/plain": [
       "    STOCK_PRICE       DATE   Indicator\n",
       "0   1436.647762 2023-11-18  forecasted\n",
       "1   1436.621506 2023-11-19  forecasted\n",
       "2   1436.469940 2023-11-20  forecasted\n",
       "3   1436.318398 2023-11-21  forecasted\n",
       "4   1436.166879 2023-11-22  forecasted\n",
       "5   1436.015385 2023-11-23  forecasted\n",
       "6   1435.863914 2023-11-24  forecasted\n",
       "7   1435.712467 2023-11-25  forecasted\n",
       "8   1435.561044 2023-11-26  forecasted\n",
       "9   1435.409644 2023-11-27  forecasted\n",
       "10  1435.258269 2023-11-28  forecasted"
      ]
     },
     "execution_count": 60,
     "metadata": {},
     "output_type": "execute_result"
    }
   ],
   "source": [
    "import datetime\n",
    "new_forecast = pd.DataFrame(columns=final_arima_stock_data.columns)\n",
    "new_forecast['STOCK_PRICE'] = forecast_list\n",
    "new_forecast['Indicator'] = 'forecasted'\n",
    "\n",
    "# Getting the last row date from 'DATE' column, which can be used to get the start_date and end_date\n",
    "last_row_date = final_arima_stock_data.DATE.iloc[-1] \n",
    "last_row_date = pd.to_datetime(last_row_date, format = '%Y-%m-%d') # Last date of the data frame in formatted\n",
    "start_date = last_row_date + datetime.timedelta(days=1)\n",
    "\n",
    "# Adding duration number of days\n",
    "end_date = start_date + datetime.timedelta(days=duration)\n",
    "\n",
    "# Adding the new dates to the dataframe new_forecast\n",
    "new_forecast['DATE']= pd.DataFrame(pd.date_range(start=start_date, end=end_date), columns=['DATE'])\n",
    "new_forecast"
   ]
  },
  {
   "cell_type": "code",
   "execution_count": 61,
   "metadata": {},
   "outputs": [],
   "source": [
    "final_arima_stock_data = pd.concat([final_arima_stock_data, new_forecast], ignore_index=True)\n",
    "final_arima_stock_data.set_index('DATE',inplace=True)"
   ]
  },
  {
   "cell_type": "code",
   "execution_count": 62,
   "metadata": {},
   "outputs": [
    {
     "data": {
      "text/html": [
       "<div>\n",
       "<style scoped>\n",
       "    .dataframe tbody tr th:only-of-type {\n",
       "        vertical-align: middle;\n",
       "    }\n",
       "\n",
       "    .dataframe tbody tr th {\n",
       "        vertical-align: top;\n",
       "    }\n",
       "\n",
       "    .dataframe thead th {\n",
       "        text-align: right;\n",
       "    }\n",
       "</style>\n",
       "<table border=\"1\" class=\"dataframe\">\n",
       "  <thead>\n",
       "    <tr style=\"text-align: right;\">\n",
       "      <th></th>\n",
       "      <th>STOCK_PRICE</th>\n",
       "      <th>Indicator</th>\n",
       "    </tr>\n",
       "    <tr>\n",
       "      <th>DATE</th>\n",
       "      <th></th>\n",
       "      <th></th>\n",
       "    </tr>\n",
       "  </thead>\n",
       "  <tbody>\n",
       "    <tr>\n",
       "      <th>2000-01-03</th>\n",
       "      <td>122.480469</td>\n",
       "      <td>orig</td>\n",
       "    </tr>\n",
       "    <tr>\n",
       "      <th>2000-01-04</th>\n",
       "      <td>132.110931</td>\n",
       "      <td>orig</td>\n",
       "    </tr>\n",
       "    <tr>\n",
       "      <th>2000-01-05</th>\n",
       "      <td>121.542191</td>\n",
       "      <td>orig</td>\n",
       "    </tr>\n",
       "    <tr>\n",
       "      <th>2000-01-06</th>\n",
       "      <td>111.819138</td>\n",
       "      <td>orig</td>\n",
       "    </tr>\n",
       "    <tr>\n",
       "      <th>2000-01-07</th>\n",
       "      <td>102.873825</td>\n",
       "      <td>orig</td>\n",
       "    </tr>\n",
       "    <tr>\n",
       "      <th>...</th>\n",
       "      <td>...</td>\n",
       "      <td>...</td>\n",
       "    </tr>\n",
       "    <tr>\n",
       "      <th>2023-11-24</th>\n",
       "      <td>1435.863914</td>\n",
       "      <td>forecasted</td>\n",
       "    </tr>\n",
       "    <tr>\n",
       "      <th>2023-11-25</th>\n",
       "      <td>1435.712467</td>\n",
       "      <td>forecasted</td>\n",
       "    </tr>\n",
       "    <tr>\n",
       "      <th>2023-11-26</th>\n",
       "      <td>1435.561044</td>\n",
       "      <td>forecasted</td>\n",
       "    </tr>\n",
       "    <tr>\n",
       "      <th>2023-11-27</th>\n",
       "      <td>1435.409644</td>\n",
       "      <td>forecasted</td>\n",
       "    </tr>\n",
       "    <tr>\n",
       "      <th>2023-11-28</th>\n",
       "      <td>1435.258269</td>\n",
       "      <td>forecasted</td>\n",
       "    </tr>\n",
       "  </tbody>\n",
       "</table>\n",
       "<p>5933 rows × 2 columns</p>\n",
       "</div>"
      ],
      "text/plain": [
       "            STOCK_PRICE   Indicator\n",
       "DATE                               \n",
       "2000-01-03   122.480469        orig\n",
       "2000-01-04   132.110931        orig\n",
       "2000-01-05   121.542191        orig\n",
       "2000-01-06   111.819138        orig\n",
       "2000-01-07   102.873825        orig\n",
       "...                 ...         ...\n",
       "2023-11-24  1435.863914  forecasted\n",
       "2023-11-25  1435.712467  forecasted\n",
       "2023-11-26  1435.561044  forecasted\n",
       "2023-11-27  1435.409644  forecasted\n",
       "2023-11-28  1435.258269  forecasted\n",
       "\n",
       "[5933 rows x 2 columns]"
      ]
     },
     "execution_count": 62,
     "metadata": {},
     "output_type": "execute_result"
    }
   ],
   "source": [
    "final_arima_stock_data[['Indicator']] = final_arima_stock_data[['Indicator']].fillna('orig')\n",
    "final_arima_stock_data"
   ]
  },
  {
   "cell_type": "code",
   "execution_count": 63,
   "metadata": {},
   "outputs": [],
   "source": [
    "output_df = final_arima_stock_data.copy()\n",
    "output_df = output_df.reset_index()\n",
    "output_df\n",
    "output_df.to_csv(\"arima_df_output.csv\")"
   ]
  },
  {
   "cell_type": "code",
   "execution_count": 64,
   "metadata": {},
   "outputs": [
    {
     "data": {
      "image/png": "[encoded data removed]",
      "text/plain": [
       "<Figure size 2000x600 with 1 Axes>"
      ]
     },
     "metadata": {},
     "output_type": "display_data"
    }
   ],
   "source": [
    "# The yahoo finance ticker for the stock symbol for Infosys\n",
    "stock_symbol = \"Infosys Limited (INFY.BO)\"\n",
    "\n",
    "plt.figure(figsize=(20,6))\n",
    "sns.lineplot(x='DATE', y='STOCK_PRICE', hue='Indicator', palette=['#0541ff','#FF0000'], data=final_arima_stock_data)\n",
    "plt.xticks(rotation = 0,fontsize = 12, fontfamily = \"Times New Roman\")\n",
    "plt.xlabel(\"DATE\", weight='bold', fontfamily = \"Times New Roman\", size = '12')\n",
    "plt.ylabel(\"STOCK COUNT\", weight='bold', fontfamily = \"Times New Roman\", size = '12')\n",
    "plt.title(f\"{stock_symbol} prediction of next {duration} Days\", verticalalignment=\"center\", weight='bold', fontfamily = \"Times New Roman\", size = '18')\n",
    "plt.axhline(y=final_arima_stock_data.STOCK_PRICE[len(final_arima_stock_data)-1], color = '#ff9900', linestyle = ':', label = f'NEXT {duration}D: {round(float(final_arima_stock_data.STOCK_PRICE[len(final_arima_stock_data)-1]),2)}')\n",
    "plt.legend()\n",
    "plt.show()"
   ]
  },
  {
   "cell_type": "code",
   "execution_count": 65,
   "metadata": {},
   "outputs": [],
   "source": [
    "import pickle\n",
    "pickle.dump(arima_model, open('arima_model.pkl', 'wb'))"
   ]
  },
  {
   "cell_type": "code",
   "execution_count": 66,
   "metadata": {},
   "outputs": [],
   "source": [
    "# import pickle\n",
    "# pickled_arima_model = pickle.load(open('arima_model.pkl', 'rb'))\n",
    "# # pickled_model.predict(int(len(data_boxcox)*split_percent), int(len(data_boxcox)*split_percent)+len(arima_test_data)-1)\n",
    "# pickled_arima_model.summary()"
   ]
  }
 ],
 "metadata": {
  "kernelspec": {
   "display_name": "Python 3",
   "language": "python",
   "name": "python3"
  },
  "language_info": {
   "codemirror_mode": {
    "name": "ipython",
    "version": 3
   },
   "file_extension": ".py",
   "mimetype": "text/x-python",
   "name": "python",
   "nbconvert_exporter": "python",
   "pygments_lexer": "ipython3",
   "version": "3.10.10"
  }
 },
 "nbformat": 4,
 "nbformat_minor": 2
}

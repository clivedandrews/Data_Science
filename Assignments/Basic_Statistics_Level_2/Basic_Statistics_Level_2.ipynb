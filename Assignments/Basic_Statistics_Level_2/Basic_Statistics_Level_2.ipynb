{
 "cells": [
  {
   "cell_type": "markdown",
   "metadata": {},
   "source": [
    "### Assignment 2 - Set-2: Normal Distribution Functions of random variables"
   ]
  },
  {
   "cell_type": "code",
   "execution_count": 67,
   "metadata": {},
   "outputs": [],
   "source": [
    "import pandas as pd\n",
    "import numpy as np\n",
    "import matplotlib.pyplot as plt\n",
    "import scipy.stats as stats\n",
    "import seaborn as sns\n",
    "import statsmodels.api as smf\n",
    "import warnings\n",
    "warnings.filterwarnings('ignore')"
   ]
  },
  {
   "cell_type": "code",
   "execution_count": 68,
   "metadata": {},
   "outputs": [
    {
     "data": {
      "text/html": [
       "<div>\n",
       "<style scoped>\n",
       "    .dataframe tbody tr th:only-of-type {\n",
       "        vertical-align: middle;\n",
       "    }\n",
       "\n",
       "    .dataframe tbody tr th {\n",
       "        vertical-align: top;\n",
       "    }\n",
       "\n",
       "    .dataframe thead th {\n",
       "        text-align: right;\n",
       "    }\n",
       "</style>\n",
       "<table border=\"1\" class=\"dataframe\">\n",
       "  <thead>\n",
       "    <tr style=\"text-align: right;\">\n",
       "      <th></th>\n",
       "      <th>company_name</th>\n",
       "      <th>measure</th>\n",
       "    </tr>\n",
       "  </thead>\n",
       "  <tbody>\n",
       "    <tr>\n",
       "      <th>0</th>\n",
       "      <td>Allied Signal</td>\n",
       "      <td>24.23</td>\n",
       "    </tr>\n",
       "    <tr>\n",
       "      <th>1</th>\n",
       "      <td>Bankers Trust</td>\n",
       "      <td>25.53</td>\n",
       "    </tr>\n",
       "    <tr>\n",
       "      <th>2</th>\n",
       "      <td>General Mills</td>\n",
       "      <td>25.41</td>\n",
       "    </tr>\n",
       "    <tr>\n",
       "      <th>3</th>\n",
       "      <td>ITT Industries</td>\n",
       "      <td>24.14</td>\n",
       "    </tr>\n",
       "    <tr>\n",
       "      <th>4</th>\n",
       "      <td>J.P.Morgan &amp; Co.</td>\n",
       "      <td>29.62</td>\n",
       "    </tr>\n",
       "    <tr>\n",
       "      <th>5</th>\n",
       "      <td>Lehman Brothers</td>\n",
       "      <td>28.25</td>\n",
       "    </tr>\n",
       "    <tr>\n",
       "      <th>6</th>\n",
       "      <td>Marriott</td>\n",
       "      <td>25.81</td>\n",
       "    </tr>\n",
       "    <tr>\n",
       "      <th>7</th>\n",
       "      <td>MCI</td>\n",
       "      <td>24.39</td>\n",
       "    </tr>\n",
       "    <tr>\n",
       "      <th>8</th>\n",
       "      <td>Merrill Lynch</td>\n",
       "      <td>40.26</td>\n",
       "    </tr>\n",
       "    <tr>\n",
       "      <th>9</th>\n",
       "      <td>Microsoft</td>\n",
       "      <td>32.95</td>\n",
       "    </tr>\n",
       "    <tr>\n",
       "      <th>10</th>\n",
       "      <td>Morgan Stanley</td>\n",
       "      <td>91.36</td>\n",
       "    </tr>\n",
       "    <tr>\n",
       "      <th>11</th>\n",
       "      <td>Sun Microsystems</td>\n",
       "      <td>25.99</td>\n",
       "    </tr>\n",
       "    <tr>\n",
       "      <th>12</th>\n",
       "      <td>Travelers</td>\n",
       "      <td>39.42</td>\n",
       "    </tr>\n",
       "    <tr>\n",
       "      <th>13</th>\n",
       "      <td>US Airways</td>\n",
       "      <td>26.71</td>\n",
       "    </tr>\n",
       "    <tr>\n",
       "      <th>14</th>\n",
       "      <td>Warner-Lambert</td>\n",
       "      <td>35.00</td>\n",
       "    </tr>\n",
       "  </tbody>\n",
       "</table>\n",
       "</div>"
      ],
      "text/plain": [
       "        company_name  measure\n",
       "0      Allied Signal    24.23\n",
       "1      Bankers Trust    25.53\n",
       "2      General Mills    25.41\n",
       "3     ITT Industries    24.14\n",
       "4   J.P.Morgan & Co.    29.62\n",
       "5    Lehman Brothers    28.25\n",
       "6           Marriott    25.81\n",
       "7                MCI    24.39\n",
       "8      Merrill Lynch    40.26\n",
       "9          Microsoft    32.95\n",
       "10    Morgan Stanley    91.36\n",
       "11  Sun Microsystems    25.99\n",
       "12         Travelers    39.42\n",
       "13        US Airways    26.71\n",
       "14    Warner-Lambert    35.00"
      ]
     },
     "execution_count": 68,
     "metadata": {},
     "output_type": "execute_result"
    }
   ],
   "source": [
    "company_name = pd.Series(['Allied Signal','Bankers Trust','General Mills','ITT Industries','J.P.Morgan & Co.','Lehman Brothers','Marriott','MCI','Merrill Lynch','Microsoft','Morgan Stanley','Sun Microsystems','Travelers','US Airways','Warner-Lambert'])\n",
    "company_name\n",
    "measure = pd.Series([24.23,25.53,25.41,24.14,29.62,28.25,25.81,24.39,40.26,32.95,91.36,25.99,39.42,26.71,35.00])\n",
    "bs2_df = pd.DataFrame(company_name, columns =['company_name'], dtype = str)\n",
    "bs2_df['measure'] = measure\n",
    "bs2_df"
   ]
  },
  {
   "cell_type": "code",
   "execution_count": 69,
   "metadata": {},
   "outputs": [
    {
     "data": {
      "text/plain": [
       "33.27133333333333"
      ]
     },
     "execution_count": 69,
     "metadata": {},
     "output_type": "execute_result"
    }
   ],
   "source": [
    "# Population Mean - MU\n",
    "bs2_population_mean_mu = bs2_df['measure'].mean()\n",
    "bs2_population_mean_mu # Output - 33.27133333333333"
   ]
  },
  {
   "cell_type": "code",
   "execution_count": 70,
   "metadata": {},
   "outputs": [
    {
     "data": {
      "text/plain": [
       "26.71"
      ]
     },
     "execution_count": 70,
     "metadata": {},
     "output_type": "execute_result"
    }
   ],
   "source": [
    "# Population Median\n",
    "bs2_population_mean_median = bs2_df['measure'].median()\n",
    "bs2_population_mean_median # Output - 33.27133333333333"
   ]
  },
  {
   "cell_type": "code",
   "execution_count": 71,
   "metadata": {},
   "outputs": [
    {
     "data": {
      "text/plain": [
       "16.945400921222028"
      ]
     },
     "execution_count": 71,
     "metadata": {},
     "output_type": "execute_result"
    }
   ],
   "source": [
    "# Population Mean - Standard Deviation - Sigma\n",
    "bs2_population_mean_std = bs2_df['measure'].std()\n",
    "bs2_population_mean_std # Output - 16.945400921222028"
   ]
  },
  {
   "cell_type": "code",
   "execution_count": 72,
   "metadata": {},
   "outputs": [
    {
     "data": {
      "text/plain": [
       "287.1466123809524"
      ]
     },
     "execution_count": 72,
     "metadata": {},
     "output_type": "execute_result"
    }
   ],
   "source": [
    "# Population Mean - Variance - Variance\n",
    "bs2_population_mean_var = bs2_df['measure'].var()\n",
    "bs2_population_mean_var # Output - 287.1466123809524"
   ]
  },
  {
   "cell_type": "code",
   "execution_count": 73,
   "metadata": {},
   "outputs": [
    {
     "data": {
      "image/png": "[encoded data removed]",
      "text/plain": [
       "<Figure size 640x480 with 1 Axes>"
      ]
     },
     "metadata": {},
     "output_type": "display_data"
    }
   ],
   "source": [
    "# Box Plot\n",
    "import matplotlib.pyplot as plt\n",
    "box_plot = plt.boxplot(bs2_df['measure'])"
   ]
  },
  {
   "cell_type": "code",
   "execution_count": 74,
   "metadata": {},
   "outputs": [
    {
     "data": {
      "text/plain": [
       "{'whiskers': [<matplotlib.lines.Line2D at 0x1a31104c910>,\n",
       "  <matplotlib.lines.Line2D at 0x1a31104cbb0>],\n",
       " 'caps': [<matplotlib.lines.Line2D at 0x1a31104ce50>,\n",
       "  <matplotlib.lines.Line2D at 0x1a31104d0f0>],\n",
       " 'boxes': [<matplotlib.lines.Line2D at 0x1a31104c670>],\n",
       " 'medians': [<matplotlib.lines.Line2D at 0x1a31104d390>],\n",
       " 'fliers': [<matplotlib.lines.Line2D at 0x1a31104d630>],\n",
       " 'means': []}"
      ]
     },
     "execution_count": 74,
     "metadata": {},
     "output_type": "execute_result"
    }
   ],
   "source": [
    "box_plot"
   ]
  },
  {
   "cell_type": "markdown",
   "metadata": {},
   "source": [
    "Finding the Outlier Values"
   ]
  },
  {
   "cell_type": "code",
   "execution_count": 75,
   "metadata": {},
   "outputs": [
    {
     "data": {
      "text/plain": [
       "[array([91.36])]"
      ]
     },
     "execution_count": 75,
     "metadata": {},
     "output_type": "execute_result"
    }
   ],
   "source": [
    "# The 'fliers' parameter has details about the outliers\n",
    "[item.get_ydata() for item in box_plot['fliers']]"
   ]
  },
  {
   "cell_type": "code",
   "execution_count": 76,
   "metadata": {},
   "outputs": [
    {
     "name": "stdout",
     "output_type": "stream",
     "text": [
      "[91.36]\n"
     ]
    }
   ],
   "source": [
    "for item in box_plot['fliers']:\n",
    "    print(item.get_ydata()) # retrieving outliers for vertical boxplot\n",
    "    #print(item.get_xdata()) # retrieving outliers for horizontal boxplot"
   ]
  },
  {
   "cell_type": "code",
   "execution_count": 77,
   "metadata": {},
   "outputs": [
    {
     "name": "stdout",
     "output_type": "stream",
     "text": [
      "The following are the outliers in the boxplot: 91.36\n"
     ]
    }
   ],
   "source": [
    "\n",
    "# Alternate Method to find Outliers using Quartiles\n",
    "\n",
    "# Finding the 1st quartile\n",
    "q1 = np.quantile(bs2_df['measure'], 0.25)\n",
    " \n",
    "# Finding the 3rd quartile\n",
    "q3 = np.quantile(bs2_df['measure'], 0.75)\n",
    "\n",
    "# Finding the median\n",
    "# med = np.quantile(bs2_df['measure'], 0.50) # The 50% quartile is the median\n",
    "# med = bs2_df['measure'].median() # Another way to get the median\n",
    "med = np.median(bs2_df['measure'])\n",
    "\n",
    "# Finding the Inter Quartile Range (IQR) region\n",
    "iqr = q3-q1\n",
    " \n",
    "# Finding upper and lower whiskers\n",
    "upper_bound = q3+(1.5*iqr)\n",
    "lower_bound = q1-(1.5*iqr)\n",
    "\n",
    "outliers = bs2_df['measure'][(bs2_df['measure'] <= lower_bound) | (bs2_df['measure'] >= upper_bound)]\n",
    "print('The following are the outliers in the boxplot: '+str(outliers.max()))\n",
    "\n"
   ]
  },
  {
   "cell_type": "markdown",
   "metadata": {},
   "source": [
    "### Assignment 2 - Set-2: Normal Distribution Functions of random variables"
   ]
  },
  {
   "cell_type": "markdown",
   "metadata": {},
   "source": [
    "#### Question 1. Probability that the service manager cannot meet his commitment\n",
    "- MU - 45 minutes \n",
    "- Sigma - 8 minutes\n",
    "- Delay from Start - 10 minutes\n",
    "- Target Time of Completion - 1 Hour i.e., 60 minutes"
   ]
  },
  {
   "cell_type": "code",
   "execution_count": 78,
   "metadata": {},
   "outputs": [],
   "source": [
    "import pandas as pd\n",
    "import numpy as np\n",
    "import scipy.stats as stats"
   ]
  },
  {
   "cell_type": "code",
   "execution_count": 79,
   "metadata": {},
   "outputs": [
    {
     "data": {
      "text/plain": [
       "0.26598552904870054"
      ]
     },
     "execution_count": 79,
     "metadata": {},
     "output_type": "execute_result"
    }
   ],
   "source": [
    "# Expected within 60 minutes, MU - 45 + delayed by 10 = 55 minutes, Sigma = 8 mins\n",
    "# The probability that we finish within 60 minutes is stats stats.norm.cdf(60,loc=55,scale=8)\n",
    "# The probability that it does not finish within 60 minutes = 1 - stats.norm.cdf(60,loc=55,scale=8)\n",
    "1-stats.norm.cdf(60,loc=55,scale=8) # 0.26598552904870054\n",
    "\n",
    "# Alternatively - Let's suppose we need to complete in 50 mins as the work starts after 10 minutes and expectation is it should be completed in 1 hour i.e. 60 mins.\n",
    "# In that case Mean or MU = 45 and Sigma or standard deviation is 8 mins.\n",
    "1- stats.norm.cdf(50,loc=45,scale=8) # 0.26598552904870054\n",
    "\n",
    "# Solution: Both approaches give the same answer 0.26598552904870054"
   ]
  },
  {
   "cell_type": "markdown",
   "metadata": {},
   "source": [
    "#### Question 2. True Or False Statements -\n",
    "- MU    - 38\n",
    "- Sigma - 6\n",
    "- n     - 400"
   ]
  },
  {
   "cell_type": "markdown",
   "metadata": {},
   "source": [
    "##### 2A. More employees at the processing center are older than 44 than between 38 and 44"
   ]
  },
  {
   "cell_type": "code",
   "execution_count": 80,
   "metadata": {},
   "outputs": [
    {
     "data": {
      "text/plain": [
       "0.3413447460685429"
      ]
     },
     "execution_count": 80,
     "metadata": {},
     "output_type": "execute_result"
    }
   ],
   "source": [
    "# Probability lesser than 44\n",
    "stats.norm.cdf(44,loc=38,scale=6)  # 0.8413447460685429\n",
    "\n",
    "# Probability greater i.e. \"Older than 44\"\n",
    "1-stats.norm.cdf(44,loc=38,scale=6)  # 0.15865525393145707\n",
    "\n",
    "# Probability of lesser than 38\n",
    "stats.norm.cdf(38,loc=38,scale=6) # 0.5\n",
    "\n",
    "# Probability \"Between 38 and 44\"\n",
    "stats.norm.cdf(44,loc=38,scale=6) - stats.norm.cdf(38,loc=38,scale=6) # 0.3413447460685429\n",
    "\n",
    "# Solution: Statement is False as there are more employees \"Between 38 and 44\""
   ]
  },
  {
   "cell_type": "markdown",
   "metadata": {},
   "source": [
    "##### 2B.\tA training program for employees under the age of 30 at the center would be expected to attract about 36 employees."
   ]
  },
  {
   "cell_type": "code",
   "execution_count": 81,
   "metadata": {},
   "outputs": [
    {
     "data": {
      "text/plain": [
       "36.484487890347154"
      ]
     },
     "execution_count": 81,
     "metadata": {},
     "output_type": "execute_result"
    }
   ],
   "source": [
    "# Probability of lesser than 30\n",
    "stats.norm.cdf(30,loc=38,scale=6) # 0.09121121972586788\n",
    "0.09121121972586788 * 400 # 36.484487890347154\n",
    "\n",
    "\n",
    "# Solution: Statement is True as the probability of lesser than 30 is 36 approx."
   ]
  },
  {
   "cell_type": "markdown",
   "metadata": {},
   "source": [
    "#### Question 4.\tLet X ~ N(100, 20**2). Find two values, a and b, symmetric about the mean, such that the probability of the random variable taking a value between them is 0.99. \n",
    "- MU - 100\n",
    "- Sigma - 20\n",
    "- Expected probability - 0.99"
   ]
  },
  {
   "cell_type": "code",
   "execution_count": 82,
   "metadata": {},
   "outputs": [
    {
     "data": {
      "text/plain": [
       "(48.48341392902199, 151.516586070978)"
      ]
     },
     "execution_count": 82,
     "metadata": {},
     "output_type": "execute_result"
    }
   ],
   "source": [
    "# Expected probability is 0.99\n",
    "# MU - 100\n",
    "# Sigma - 20\n",
    "stats.norm.interval(0.99,loc=100,scale=20)  # (48.48341392902199, 151.516586070978)\n",
    "\n",
    "# The range (48.48341392902199, 151.516586070978) matches to option \"D.\t48.5, 151.5\""
   ]
  },
  {
   "cell_type": "code",
   "execution_count": 83,
   "metadata": {},
   "outputs": [
    {
     "data": {
      "text/plain": [
       "0.9899759913364774"
      ]
     },
     "execution_count": 83,
     "metadata": {},
     "output_type": "execute_result"
    }
   ],
   "source": [
    "# Reverse Checking by substituting the values obtained from earlier command\n",
    "stats.norm.cdf(151.5,loc=100,scale=20) - stats.norm.cdf(48.5,loc=100,scale=20) # 0.9899759913364774\n",
    "\n",
    "# This gives the expected probability of 0.99"
   ]
  },
  {
   "cell_type": "markdown",
   "metadata": {},
   "source": [
    "Alternative Method"
   ]
  },
  {
   "cell_type": "code",
   "execution_count": 84,
   "metadata": {},
   "outputs": [
    {
     "data": {
      "text/plain": [
       "151.516586070978"
      ]
     },
     "execution_count": 84,
     "metadata": {},
     "output_type": "execute_result"
    }
   ],
   "source": [
    "# Getting the point a based on the percentage 0.005\n",
    "stats.norm.ppf(0.005,loc=100,scale=20) # 48.483413929021985\n",
    "\n",
    "# Getting the point b based on the percentage 0.995\n",
    "stats.norm.ppf(0.995,loc=100,scale=20) # 151.516586070978"
   ]
  },
  {
   "cell_type": "markdown",
   "metadata": {},
   "source": [
    "#### Question 5 \n",
    "- A company that has two different divisions. \n",
    "- Profit1 ~ N(5, 32) and Profit2 ~ N(7, 42)\n",
    "- $1 = Rs. 45"
   ]
  },
  {
   "cell_type": "code",
   "execution_count": 85,
   "metadata": {},
   "outputs": [],
   "source": [
    "import numpy as np\n",
    "from scipy import stats\n",
    "from scipy.stats import norm"
   ]
  },
  {
   "cell_type": "code",
   "execution_count": 86,
   "metadata": {},
   "outputs": [
    {
     "name": "stdout",
     "output_type": "stream",
     "text": [
      "The Sum of the Mean Profit is Rs. 540 million\n"
     ]
    }
   ],
   "source": [
    "# Mean profits from two different divisions of a company = Mean1 + Mean2\n",
    "# Profit1 ~ N(5, 3**2) and Profit2 ~ N(7, 4**2)\n",
    "#  Divisions        Mean      Variance\n",
    "#  Division1          5         3**2\n",
    "#  Division2          7         4**2\n",
    "\n",
    "Mean_Profit_Sum_D = 5 + 7                       # Mean Profit in Million Dollars\n",
    "Mean_Profit_Sum_R = Mean_Profit_Sum_D * 45      # Mean Profit in Million Rupees; Coversion Rate provided is $1 = Rs.45\n",
    "print('The Sum of the Mean Profit is Rs.', Mean_Profit_Sum_R, 'million')\n"
   ]
  },
  {
   "cell_type": "code",
   "execution_count": 87,
   "metadata": {},
   "outputs": [
    {
     "name": "stdout",
     "output_type": "stream",
     "text": [
      "The Standard Deviation of Profit is Rs. 225.0 million\n"
     ]
    }
   ],
   "source": [
    "# Variance of profits from two different divisions of a company = Variance1 + Variance2\n",
    "# Profit1 ~ N(5, 3**2) and Profit2 ~ N(7, 4**2)\n",
    "#  Divisions        Variance\n",
    "#  Division1         3**2\n",
    "#  Division2         4**2\n",
    "\n",
    "Variance_Profit_Sum_D = (3**2) + (4**2)             # Variance of Profit in Million Dollars\n",
    "SD_Profit_D = np.sqrt(Variance_Profit_Sum_D)        # Standard Deviation of Profit in Million Dollars\n",
    "SD_Profit_R = SD_Profit_D * 45                      # Standard Deviation of Profit in Million Rupees; Coversion Rate provided is $1 = Rs.45\n",
    "print('The Standard Deviation of Profit is Rs.', SD_Profit_R, 'million')"
   ]
  },
  {
   "cell_type": "markdown",
   "metadata": {},
   "source": [
    "A.  Rupee range (centered on the mean) such that it contains 95% probability for the annual profit of the company."
   ]
  },
  {
   "cell_type": "code",
   "execution_count": 88,
   "metadata": {},
   "outputs": [
    {
     "name": "stdout",
     "output_type": "stream",
     "text": [
      "The Rupee range with 95% probability for annual profit of company in million is (99.00810347848784, 980.9918965215122)\n"
     ]
    }
   ],
   "source": [
    "Range_95_R = stats.norm.interval(0.95,loc=540,scale=225) # Rupee Range with 95% probability in Millions\n",
    "print('The Rupee range with 95% probability for annual profit of company in million is', Range_95_R)"
   ]
  },
  {
   "cell_type": "markdown",
   "metadata": {},
   "source": [
    "B.\tSpecify the 5th percentile of profit (in Rupees) for the company"
   ]
  },
  {
   "cell_type": "code",
   "execution_count": 89,
   "metadata": {},
   "outputs": [
    {
     "name": "stdout",
     "output_type": "stream",
     "text": [
      "The 5th percentile of profit for the company is 169.88 million\n"
     ]
    }
   ],
   "source": [
    "# To get the percentile of profit given the Mean and Standard Deviation\n",
    "# X = Mean(MU) - (Z-Score of percentile) * Standard_Deviation(Sigma)\n",
    "# Mean - 540 Million; Std - 225 Million; Z-Score for 5% - -1.645 (https://www.pindling.org/Math/Learning/Statistics/z_scores_table.htm)\n",
    "X = 540 + ((-1.645) * 225)\n",
    "X\n",
    "\n",
    "print('The 5th percentile of profit for the company is', np.round(X,2), 'million')\n"
   ]
  },
  {
   "cell_type": "markdown",
   "metadata": {},
   "source": [
    "C.\tWhich of the two divisions has a larger probability of making a loss in a given year?"
   ]
  },
  {
   "cell_type": "code",
   "execution_count": 90,
   "metadata": {},
   "outputs": [
    {
     "name": "stdout",
     "output_type": "stream",
     "text": [
      "The probability of Department 1 making a loss is 0.04779\n",
      "The probability of Department 2 making a loss is 0.04006\n"
     ]
    }
   ],
   "source": [
    "# To check which of the two divisions has a larger probability of making a loss, we need to compare the probabilities for each department\n",
    "\n",
    "# Probability of Department 1 making a loss P(Dept1_loss)\n",
    "P_Dept1_loss = stats.norm.cdf(0,5,3) # 0.0477903522728147\n",
    "print('The probability of Department 1 making a loss is', np.round(P_Dept1_loss,5))\n",
    "\n",
    "# Probability of Department 2 making a loss P(Dept2_loss)\n",
    "P_Dept2_loss = stats.norm.cdf(0,7,4) # 0.040059156863817086\n",
    "print('The probability of Department 2 making a loss is', np.round(P_Dept2_loss,5))\n",
    "\n",
    "# Probability of Department 1 making a loss P(Dept1_loss) is larger"
   ]
  },
  {
   "cell_type": "markdown",
   "metadata": {},
   "source": [
    "### Assignment 2 - Set-4: Sampling Distributions and Central Limit Theorem"
   ]
  },
  {
   "cell_type": "markdown",
   "metadata": {},
   "source": [
    "Q3: What is the probability that in any given week, there will be an investigation?"
   ]
  },
  {
   "cell_type": "markdown",
   "metadata": {},
   "source": [
    "n = 100\n",
    "μ = 50\n",
    "σ = 40\n"
   ]
  },
  {
   "cell_type": "code",
   "execution_count": 2,
   "metadata": {},
   "outputs": [],
   "source": [
    "import pandas as pd\n",
    "import numpy as np\n",
    "import scipy.stats as stats"
   ]
  },
  {
   "cell_type": "code",
   "execution_count": 31,
   "metadata": {},
   "outputs": [
    {
     "data": {
      "text/plain": [
       "1.25"
      ]
     },
     "execution_count": 31,
     "metadata": {},
     "output_type": "execute_result"
    }
   ],
   "source": [
    "z1 = (55-50)/(40/np.sqrt(100)) # 1.25\n",
    "z2 = (45-50)/(40/np.sqrt(100)) # -1.25"
   ]
  },
  {
   "cell_type": "code",
   "execution_count": 36,
   "metadata": {},
   "outputs": [
    {
     "data": {
      "text/plain": [
       "0.2112995473337107"
      ]
     },
     "execution_count": 36,
     "metadata": {},
     "output_type": "execute_result"
    }
   ],
   "source": [
    "p_z1 = stats.norm.cdf(z1) # 0.8943502263331446\n",
    "p_z2 = stats.norm.cdf(z2) # 0.10564977366685535\n",
    "\n",
    "# Probability of no investigation i.e. when mean is between 45 and 55\n",
    "p_no_investigation = p_z1 - p_z2 # 0.7887004526662893\n",
    "probability_of_investigation = 1- p_no_investigation\n",
    "probability_of_investigation # 0.2112995473337107"
   ]
  },
  {
   "cell_type": "markdown",
   "metadata": {},
   "source": [
    "Q4: Minimum number transactions that they should sample to have probability of investigation to 5%"
   ]
  },
  {
   "cell_type": "code",
   "execution_count": 44,
   "metadata": {},
   "outputs": [
    {
     "data": {
      "text/plain": [
       "(-1.959963984540054, 1.959963984540054)"
      ]
     },
     "execution_count": 44,
     "metadata": {},
     "output_type": "execute_result"
    }
   ],
   "source": [
    "p_no_investigation = 0.95\n",
    "stats.norm.interval(p_no_investigation)"
   ]
  },
  {
   "cell_type": "code",
   "execution_count": 42,
   "metadata": {},
   "outputs": [
    {
     "data": {
      "text/plain": [
       "245.86240000000004"
      ]
     },
     "execution_count": 42,
     "metadata": {},
     "output_type": "execute_result"
    }
   ],
   "source": [
    "number_of_transactions = (1.96 * 40/ (45 - 50)) ** 2\n",
    "number_of_transactions\n"
   ]
  }
 ],
 "metadata": {
  "kernelspec": {
   "display_name": "Python 3",
   "language": "python",
   "name": "python3"
  },
  "language_info": {
   "codemirror_mode": {
    "name": "ipython",
    "version": 3
   },
   "file_extension": ".py",
   "mimetype": "text/x-python",
   "name": "python",
   "nbconvert_exporter": "python",
   "pygments_lexer": "ipython3",
   "version": "3.10.5"
  },
  "orig_nbformat": 4
 },
 "nbformat": 4,
 "nbformat_minor": 2
}
